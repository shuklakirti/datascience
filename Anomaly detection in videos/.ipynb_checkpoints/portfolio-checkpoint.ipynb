{
 "cells": [
  {
   "cell_type": "markdown",
   "metadata": {},
   "source": [
    "# CSYE7245 - Big Data Systems & Intelligent Analytics (Spring 2019)"
   ]
  },
  {
   "cell_type": "markdown",
   "metadata": {},
   "source": [
    "# Unsupervised Abnormal Event Detection"
   ]
  },
  {
   "cell_type": "markdown",
   "metadata": {},
   "source": [
    "### Kirti Akhilesh Shukla - NUID 001448312"
   ]
  },
  {
   "cell_type": "markdown",
   "metadata": {},
   "source": [
    "## Abstract"
   ]
  },
  {
   "cell_type": "markdown",
   "metadata": {},
   "source": [
    "For Anomaly detection in videos, Instead of treating it as supervised learning and Labeling the videos as Normal and abnormal, I have used another approach and did the anomaly detection by unsupervised learning.It is difficult to obtain abnormal videos as compared to normal videos. Even in self automated cars, the biggest challenge is to get accident videos because it is very difficult to get them and also to generate them.\n",
    "Spatiotemporal architecture is proposed for anomaly detection in videos including crowded scenes. It contains two main components, one for spatial feature representation, and one for learning the temporal evolution of the spatial features.\n",
    "I have trained my model by only normal videos(some outliers) and while testing, when abnormal videos are given to this trained model, the reconstruction error for such videos goes above threshold and anomaly is detected.\n",
    "\n",
    "This application can be used in video surveillance to detect abnormal events as it’s based on unsupervised learning, the advantage being that the only ingredient required is a long video segment containing only normal events in a fixed view"
   ]
  },
  {
   "cell_type": "markdown",
   "metadata": {},
   "source": [
    "## Introduction"
   ]
  },
  {
   "cell_type": "markdown",
   "metadata": {},
   "source": [
    "Suspicious events that are of interest in long video sequences, such as surveillance footage usually have an extremely low probability of occurring. Manually detecting such events, or anomalies, is a very meticulous job that often requires more manpower than is generally available. Hence, there is a need for Automate detection.\n",
    "\n",
    " \n",
    "\n",
    "Treating the task as a binary classification problem (normal and abnormal)  proved it being effective and accurate, but the practicality of such method is limited since footages of abnormal events are difficult to obtain due to its rarity. Hence, it is more efficient to train a model using little to no supervision, including spatiotemporal features and autoencoders . Unlike supervised methods, these methods only require unlabelled video footages which contain little or no abnormal event, which are easy to obtain in real-world applications.\n",
    "\n",
    " In this project, video data set is represented by a set of general features, which are inferred automatically from a long video footage through a deep learning approach. Specifically, a deep neural network composed of a stack of convolutional autoencoders was used to process video frames in an unsupervised manner that captured spatial structures in the data, which, grouped together, compose the video representation. Then, this representation is fed into a stack of convolutional temporal autoencoders to learn the regular temporal patterns.\n",
    "\n",
    "The method described here is based on the principle that when an abnormal event occurs, the most recent frames of video will be significantly different than the older frames. Trained an end-to-end model that consists of a spatial feature extractor and a temporal encoder-decoder which together learns the temporal patterns of the input volume of frames. The model is trained with video volumes consists of only normal scenes, with the objective to minimize the reconstruction error between the input video volume and the output video volume reconstructed by the learned model. After the model is properly trained, normal video volume is expected to have low reconstruction error, whereas video volume consisting of abnormal scenes is expected to have high reconstruction error. By thresholding on the error produced by each testing input volumes, our system will be able to detect when an abnormal event occurs."
   ]
  },
  {
   "cell_type": "code",
   "execution_count": 1,
   "metadata": {},
   "outputs": [
    {
     "name": "stderr",
     "output_type": "stream",
     "text": [
      "Using TensorFlow backend.\n"
     ]
    }
   ],
   "source": [
    "import tensorflow as tf\n",
    "import keras\n",
    "from keras.preprocessing.image import img_to_array,load_img\n",
    "from keras.layers import Conv3D,ConvLSTM2D,Conv3DTranspose,PReLU,BatchNormalization\n",
    "from keras.models import Sequential\n",
    "from keras.models import load_model\n",
    "from sklearn.preprocessing import StandardScaler\n",
    "import numpy as np\n",
    "import os \n",
    "from scipy.misc import imresize \n",
    "import matplotlib.pyplot as plt\n",
    "from sklearn.preprocessing import MinMaxScaler\n",
    "import warnings\n",
    "warnings.filterwarnings('ignore')"
   ]
  },
  {
   "cell_type": "markdown",
   "metadata": {},
   "source": [
    "## Preprocessing Videos\n",
    "The training and the testing videos are loaded. The approach used to load is by extracting frames from the video. This can be done using a linux command __ffmpeg -i {video filename} -r {fps} {image filename}.__ These images are then converted to an array and then to grayscale and saved in a list. The frames are then resized to **227x227** size and then normalized before passing to the model."
   ]
  },
  {
   "cell_type": "code",
   "execution_count": 16,
   "metadata": {},
   "outputs": [],
   "source": [
    "def store(image_path,imagestore):\n",
    "    #Loading the image frames using keras load_img.\n",
    "    img=load_img(image_path)\n",
    "    #Converting the loaded image to array using keras img_to_array.\n",
    "    img=img_to_array(img)\n",
    "    #Resize the Image to (227,227,3) for the model to be able to process it. \n",
    "    img=imresize(img,(227,227,3))\n",
    "    #Convert the Image to Grayscale (Code referred from stackoverflow post mentioned in citations).\n",
    "    gray=0.2989*img[:,:,0]+0.5870*img[:,:,1]+0.1140*img[:,:,2]\n",
    "    #Appending each image to a list of all image frames.\n",
    "    imagestore.append(gray)\n",
    "    \n",
    "    \n",
    "def preprocess(video_source_path, imagestore, outputName, fps):\n",
    "    #List of all Videos in the Source Directory.\n",
    "    videos=os.listdir(video_source_path)\n",
    "    #Make a temp dir to store all the frames\n",
    "    if not os.path.isdir(video_source_path+'/frames'):\n",
    "        os.mkdir(video_source_path+'/frames')\n",
    "    framepath=video_source_path+'/frames'\n",
    "    for video in videos:\n",
    "        if not video == 'frames':\n",
    "            #Extracts frames from the video. The number after -r is the number of fps extracted.\n",
    "            os.system( 'ffmpeg -i {}/{} -r {}  {}/frames/%05d.jpg'.format(video_source_path,video,fps,video_source_path))\n",
    "            images=os.listdir(framepath)\n",
    "            for image in images:\n",
    "                image_path=framepath+ '/'+ image\n",
    "                #Store the image in the aggregated image list\n",
    "                store(image_path,imagestore)\n",
    "            os.system('rm -r {}/*'.format(framepath))\n",
    "    imagestore=np.array(imagestore)\n",
    "    a,b,c=imagestore.shape\n",
    "    #Reshape to (227,227,batch_size). This is done so that 10 frames can be used as a bunch size for training ahead.\n",
    "    print(imagestore.shape)\n",
    "    imagestore.resize(b,c,a)\n",
    "    print(imagestore.shape)\n",
    "    #Normalize the image\n",
    "    imagestore=(imagestore-imagestore.mean())/(imagestore.std())\n",
    "    #Clip negative Values. Negative values are clipped to 0 and values > 1 are clipped to 1. This is done to restrict\n",
    "    #the range of values between 0 and 1.\n",
    "    imagestore=np.clip(imagestore,0,1)\n",
    "    #Save all the images in a numpy array file.\n",
    "    np.save(outputName+'.npy',imagestore)\n",
    "    #Remove Buffer Directory\n",
    "    os.system('rm -r {}'.format(framepath))"
   ]
  },
  {
   "cell_type": "markdown",
   "metadata": {},
   "source": [
    "**Both the training and the testing videos are preprocessed into frames and then stored in a file as an numpy array object.**"
   ]
  },
  {
   "cell_type": "code",
   "execution_count": 50,
   "metadata": {},
   "outputs": [
    {
     "name": "stdout",
     "output_type": "stream",
     "text": [
      "(1251, 227, 227)\n",
      "(227, 227, 1251)\n",
      "(1258, 227, 227)\n",
      "(227, 227, 1258)\n"
     ]
    }
   ],
   "source": [
    "source_path= os.getcwd()+'/data/AvenueDataset/training_videos/'\n",
    "target_path= os.getcwd()+'/data/AvenueDataset/testing_videos/'\n",
    "fps=2\n",
    "imstore=[]\n",
    "preprocess(source_path, imstore, 'training', fps)\n",
    "del imstore\n",
    "imstore = []\n",
    "preprocess(target_path, imstore, 'testing', fps)\n",
    "del imstore"
   ]
  },
  {
   "cell_type": "markdown",
   "metadata": {},
   "source": [
    "## Model building\n",
    "The input to the model is video volumes, where each volume consists of 10 consecutive frames with various skipping strides.  As the number of parameters\n",
    "in this model is large, large amount of training data is needed. We perform data augmentation in the temporal dimension to increase\n",
    "the size of the training dataset. To generate these volumes, we concatenate\n",
    "frames with stride-1, stride-2, and stride-3. For example, the first stride-1 sequence is made up of frame {1, 2, 3, 4, 5, 6, 7, 8, 9, 10}, whereas the first\n",
    "stride-2 sequence contains frame number {1, 3, 5, 7, 9, 11, 13, 15, 17, 19}, and\n",
    "stride-3 sequence would contain frame number {1, 4, 7, 10, 13, 16, 19, 22, 25,\n",
    "28}. Now the input is ready for model training."
   ]
  },
  {
   "cell_type": "markdown",
   "metadata": {},
   "source": [
    "**The model architecture consists of two parts — spatial autoencoder for learning spatial structures of each video frame, and\n",
    "temporal encoder-decoder for learning temporal patterns of the encoded spatial structures.**"
   ]
  },
  {
   "cell_type": "markdown",
   "metadata": {},
   "source": [
    "The spatial encoder and decoder\n",
    "have two convolutional and deconvolutional layers respectively, while the temporal encoder is a three-layer convolutional long short term memory (LSTM)\n",
    "model. Convolutional layers are well-known for its superb performance in object recognition, while LSTM model is widely used for sequence learning"
   ]
  },
  {
   "cell_type": "markdown",
   "metadata": {},
   "source": [
    "Autoencoders, as the name suggests, consist of two stages: encoding and decoding. It was first used to reduce dimensionality by setting the number of\n",
    "encoder output units less than the input. The model is usually trained using\n",
    "back-propagation in an unsupervised manner, by minimizing the reconstruction\n",
    "error of the decoding results from the original inputs. With the activation function chosen to be nonlinear, an autoencoder can extract more useful features\n",
    "than some common linear transformation methods such as PCA"
   ]
  },
  {
   "cell_type": "code",
   "execution_count": 17,
   "metadata": {},
   "outputs": [
    {
     "name": "stdout",
     "output_type": "stream",
     "text": [
      "_________________________________________________________________\n",
      "Layer (type)                 Output Shape              Param #   \n",
      "=================================================================\n",
      "conv3d_3 (Conv3D)            (None, 75, 75, 10, 256)   6656      \n",
      "_________________________________________________________________\n",
      "p_re_lu_5 (PReLU)            (None, 75, 75, 10, 256)   14400000  \n",
      "_________________________________________________________________\n",
      "batch_normalization_5 (Batch (None, 75, 75, 10, 256)   1024      \n",
      "_________________________________________________________________\n",
      "conv3d_4 (Conv3D)            (None, 36, 36, 10, 128)   819328    \n",
      "_________________________________________________________________\n",
      "p_re_lu_6 (PReLU)            (None, 36, 36, 10, 128)   1658880   \n",
      "_________________________________________________________________\n",
      "batch_normalization_6 (Batch (None, 36, 36, 10, 128)   512       \n",
      "_________________________________________________________________\n",
      "conv_lst_m2d_4 (ConvLSTM2D)  (None, 36, 36, 10, 128)   1180160   \n",
      "_________________________________________________________________\n",
      "conv_lst_m2d_5 (ConvLSTM2D)  (None, 36, 36, 10, 64)    442624    \n",
      "_________________________________________________________________\n",
      "conv_lst_m2d_6 (ConvLSTM2D)  (None, 36, 36, 10, 128)   885248    \n",
      "_________________________________________________________________\n",
      "batch_normalization_7 (Batch (None, 36, 36, 10, 128)   512       \n",
      "_________________________________________________________________\n",
      "p_re_lu_7 (PReLU)            (None, 36, 36, 10, 128)   1658880   \n",
      "_________________________________________________________________\n",
      "conv3d_transpose_3 (Conv3DTr (None, 75, 75, 10, 256)   819456    \n",
      "_________________________________________________________________\n",
      "batch_normalization_8 (Batch (None, 75, 75, 10, 256)   1024      \n",
      "_________________________________________________________________\n",
      "p_re_lu_8 (PReLU)            (None, 75, 75, 10, 256)   14400000  \n",
      "_________________________________________________________________\n",
      "conv3d_transpose_4 (Conv3DTr (None, 227, 227, 10, 1)   6401      \n",
      "=================================================================\n",
      "Total params: 36,280,705\n",
      "Trainable params: 36,279,169\n",
      "Non-trainable params: 1,536\n",
      "_________________________________________________________________\n",
      "None\n"
     ]
    }
   ],
   "source": [
    "def loadModel():\n",
    "    model=Sequential()\n",
    "    \n",
    "    model.add(Conv3D(filters=256,kernel_size=(5,5,1),strides=(3,3,1),padding='valid',input_shape=(227,227,10,1)))\n",
    "    model.add(PReLU())\n",
    "    model.add(BatchNormalization())\n",
    "    model.add(Conv3D(filters=128,kernel_size=(5,5,1),strides=(2,2,1),padding='valid'))\n",
    "    model.add(PReLU())\n",
    "    model.add(BatchNormalization())\n",
    "\n",
    "    model.add(ConvLSTM2D(filters=128,kernel_size=(3,3),strides=1,padding='same',dropout=0.4,recurrent_dropout=0.3,return_sequences=True))\n",
    "    model.add(ConvLSTM2D(filters=64,kernel_size=(3,3),strides=1,padding='same',dropout=0.3,return_sequences=True))\n",
    "    model.add(ConvLSTM2D(filters=128,kernel_size=(3,3),strides=1,return_sequences=True, padding='same',dropout=0.5))\n",
    "\n",
    "    model.add(BatchNormalization())\n",
    "    model.add(PReLU())\n",
    "    model.add(Conv3DTranspose(filters=256,kernel_size=(5,5,1),strides=(2,2,1),padding='valid'))\n",
    "    model.add(BatchNormalization())\n",
    "    model.add(PReLU())\n",
    "    model.add(Conv3DTranspose(filters=1,kernel_size=(5,5,1),strides=(3,3,1),padding='valid'))\n",
    "    return model\n",
    "\n",
    "model = loadModel()\n",
    "print(model.summary())"
   ]
  },
  {
   "cell_type": "markdown",
   "metadata": {},
   "source": [
    "**10 10 frames are passed to the model at once so that the model can find features in the sequence as described earlier.**"
   ]
  },
  {
   "cell_type": "code",
   "execution_count": 18,
   "metadata": {},
   "outputs": [],
   "source": [
    "def loadFrames(fileName):\n",
    "    #Loads a stored numpy array file.\n",
    "    X_train=np.load(fileName)\n",
    "    frames=X_train.shape[2]\n",
    "    print(frames)\n",
    "    #Need to make number of batch_size(frames) divisible by 10\n",
    "    frames=frames-frames%10\n",
    "    #Removing the remainder frames.\n",
    "    X_train=X_train[:,:,:frames]\n",
    "    #Reshaping the training images in such a way that if there were total 1251 frames extracted,\n",
    "    #the last 1 frame are deleted and from the remaining 1250 frames, divided in bunches of 10 consecutive frames at once.\n",
    "    #So now 125 bunches of frames are trained where each bunch has 10 consecutive images of size 227x227.\n",
    "    X_train=X_train.reshape(-1,227,227,10)\n",
    "    print(X_train.shape)\n",
    "    X_train=np.expand_dims(X_train,axis=4)\n",
    "    print(X_train.shape)\n",
    "    #Since it is unsupervised learning, x_train and y_train will be same.\n",
    "    Y_train=X_train.copy()\n",
    "    return X_train, Y_train\n",
    "\n",
    "#Simple plot to visualize the model's training history\n",
    "def visualizeModel(history):\n",
    "    plt.plot(history.history['acc'])\n",
    "    plt.plot(history.history['loss'])\n",
    "    plt.title('model history')\n",
    "    plt.ylabel('accuracy & loss')\n",
    "    plt.xlabel('epoch')\n",
    "    plt.legend(['Accuracy', 'Loss'], loc='best')\n",
    "    plt.show()\n",
    "``\n",
    "def train(model,filename):\n",
    "    X_train, Y_train = loadFrames(filename+'.npy')\n",
    "    epochs=125\n",
    "    batch_size=5\n",
    "    model.compile(optimizer='adam',loss='mean_squared_error',metrics=['accuracy'])\n",
    "    history = model.fit(X_train,Y_train,batch_size=batch_size,epochs=125)\n",
    "    model.save('model_train_new.h5')\n",
    "    visualizeModel(history)\n",
    "    return model, history"
   ]
  },
  {
   "cell_type": "code",
   "execution_count": 19,
   "metadata": {
    "scrolled": false
   },
   "outputs": [
    {
     "name": "stdout",
     "output_type": "stream",
     "text": [
      "1251\n",
      "(125, 227, 227, 10)\n",
      "(125, 227, 227, 10, 1)\n",
      "Epoch 1/125\n",
      "125/125 [==============================] - 40s 322ms/step - loss: 0.2372 - acc: 0.5295\n",
      "Epoch 2/125\n",
      "125/125 [==============================] - 17s 136ms/step - loss: 0.0859 - acc: 0.7233\n",
      "Epoch 3/125\n",
      "125/125 [==============================] - 17s 136ms/step - loss: 0.0745 - acc: 0.7333\n",
      "Epoch 4/125\n",
      "125/125 [==============================] - 17s 137ms/step - loss: 0.0708 - acc: 0.7384\n",
      "Epoch 5/125\n",
      "125/125 [==============================] - 17s 137ms/step - loss: 0.0692 - acc: 0.7397\n",
      "Epoch 6/125\n",
      "125/125 [==============================] - 17s 137ms/step - loss: 0.0684 - acc: 0.7402\n",
      "Epoch 7/125\n",
      "125/125 [==============================] - 17s 136ms/step - loss: 0.0662 - acc: 0.7408\n",
      "Epoch 8/125\n",
      "125/125 [==============================] - 17s 136ms/step - loss: 0.0615 - acc: 0.7442\n",
      "Epoch 9/125\n",
      "125/125 [==============================] - 17s 136ms/step - loss: 0.0574 - acc: 0.7488\n",
      "Epoch 10/125\n",
      "125/125 [==============================] - 17s 136ms/step - loss: 0.0515 - acc: 0.7528\n",
      "Epoch 11/125\n",
      "125/125 [==============================] - 17s 135ms/step - loss: 0.0445 - acc: 0.7595\n",
      "Epoch 12/125\n",
      "125/125 [==============================] - 17s 136ms/step - loss: 0.0376 - acc: 0.7693\n",
      "Epoch 13/125\n",
      "125/125 [==============================] - 17s 136ms/step - loss: 0.0332 - acc: 0.7745\n",
      "Epoch 14/125\n",
      "125/125 [==============================] - 17s 137ms/step - loss: 0.0303 - acc: 0.7772\n",
      "Epoch 15/125\n",
      "125/125 [==============================] - 17s 136ms/step - loss: 0.0284 - acc: 0.7788\n",
      "Epoch 16/125\n",
      "125/125 [==============================] - 17s 137ms/step - loss: 0.0268 - acc: 0.7800\n",
      "Epoch 17/125\n",
      "125/125 [==============================] - 17s 136ms/step - loss: 0.0256 - acc: 0.7810\n",
      "Epoch 18/125\n",
      "125/125 [==============================] - 17s 136ms/step - loss: 0.0246 - acc: 0.7818\n",
      "Epoch 19/125\n",
      "125/125 [==============================] - 17s 137ms/step - loss: 0.0237 - acc: 0.7825\n",
      "Epoch 20/125\n",
      "125/125 [==============================] - 17s 137ms/step - loss: 0.0229 - acc: 0.7832\n",
      "Epoch 21/125\n",
      "125/125 [==============================] - 17s 136ms/step - loss: 0.0222 - acc: 0.7838\n",
      "Epoch 22/125\n",
      "125/125 [==============================] - 17s 136ms/step - loss: 0.0216 - acc: 0.7843\n",
      "Epoch 23/125\n",
      "125/125 [==============================] - 17s 137ms/step - loss: 0.0212 - acc: 0.7847\n",
      "Epoch 24/125\n",
      "125/125 [==============================] - 17s 136ms/step - loss: 0.0207 - acc: 0.7851\n",
      "Epoch 25/125\n",
      "125/125 [==============================] - 17s 136ms/step - loss: 0.0203 - acc: 0.7855\n",
      "Epoch 26/125\n",
      "125/125 [==============================] - 17s 136ms/step - loss: 0.0206 - acc: 0.7856\n",
      "Epoch 27/125\n",
      "125/125 [==============================] - 17s 136ms/step - loss: 0.0195 - acc: 0.7862\n",
      "Epoch 28/125\n",
      "125/125 [==============================] - 17s 136ms/step - loss: 0.0191 - acc: 0.7865\n",
      "Epoch 29/125\n",
      "125/125 [==============================] - 17s 136ms/step - loss: 0.0186 - acc: 0.7868\n",
      "Epoch 30/125\n",
      "125/125 [==============================] - 17s 138ms/step - loss: 0.0185 - acc: 0.7869\n",
      "Epoch 31/125\n",
      "125/125 [==============================] - 17s 136ms/step - loss: 0.0182 - acc: 0.7872\n",
      "Epoch 32/125\n",
      "125/125 [==============================] - 17s 137ms/step - loss: 0.0180 - acc: 0.7874\n",
      "Epoch 33/125\n",
      "125/125 [==============================] - 17s 136ms/step - loss: 0.0175 - acc: 0.7876\n",
      "Epoch 34/125\n",
      "125/125 [==============================] - 17s 137ms/step - loss: 0.0172 - acc: 0.7878\n",
      "Epoch 35/125\n",
      "125/125 [==============================] - 17s 135ms/step - loss: 0.0173 - acc: 0.7879\n",
      "Epoch 36/125\n",
      "125/125 [==============================] - 17s 135ms/step - loss: 0.0171 - acc: 0.7880\n",
      "Epoch 37/125\n",
      "125/125 [==============================] - 17s 136ms/step - loss: 0.0166 - acc: 0.7882\n",
      "Epoch 38/125\n",
      "125/125 [==============================] - 17s 136ms/step - loss: 0.0166 - acc: 0.7883\n",
      "Epoch 39/125\n",
      "125/125 [==============================] - 17s 136ms/step - loss: 0.0164 - acc: 0.7884\n",
      "Epoch 40/125\n",
      "125/125 [==============================] - 17s 136ms/step - loss: 0.0162 - acc: 0.7886\n",
      "Epoch 41/125\n",
      "125/125 [==============================] - 17s 136ms/step - loss: 0.0160 - acc: 0.7887\n",
      "Epoch 42/125\n",
      "125/125 [==============================] - 17s 136ms/step - loss: 0.0157 - acc: 0.7888\n",
      "Epoch 43/125\n",
      "125/125 [==============================] - 17s 136ms/step - loss: 0.0155 - acc: 0.7889\n",
      "Epoch 44/125\n",
      "125/125 [==============================] - 17s 135ms/step - loss: 0.0155 - acc: 0.7890\n",
      "Epoch 45/125\n",
      "125/125 [==============================] - 17s 136ms/step - loss: 0.0154 - acc: 0.7891\n",
      "Epoch 46/125\n",
      "125/125 [==============================] - 17s 135ms/step - loss: 0.0150 - acc: 0.7893\n",
      "Epoch 47/125\n",
      "125/125 [==============================] - 17s 137ms/step - loss: 0.0150 - acc: 0.7893\n",
      "Epoch 48/125\n",
      "125/125 [==============================] - 17s 136ms/step - loss: 0.0150 - acc: 0.7894\n",
      "Epoch 49/125\n",
      "125/125 [==============================] - 17s 137ms/step - loss: 0.0149 - acc: 0.7895\n",
      "Epoch 50/125\n",
      "125/125 [==============================] - 17s 136ms/step - loss: 0.0147 - acc: 0.7896\n",
      "Epoch 51/125\n",
      "125/125 [==============================] - 17s 136ms/step - loss: 0.0144 - acc: 0.7897\n",
      "Epoch 52/125\n",
      "125/125 [==============================] - 17s 136ms/step - loss: 0.0143 - acc: 0.7898\n",
      "Epoch 53/125\n",
      "125/125 [==============================] - 17s 136ms/step - loss: 0.0141 - acc: 0.7899\n",
      "Epoch 54/125\n",
      "125/125 [==============================] - 17s 136ms/step - loss: 0.0140 - acc: 0.7900\n",
      "Epoch 55/125\n",
      "125/125 [==============================] - 17s 135ms/step - loss: 0.0141 - acc: 0.7900\n",
      "Epoch 56/125\n",
      "125/125 [==============================] - 17s 136ms/step - loss: 0.0137 - acc: 0.7902\n",
      "Epoch 57/125\n",
      "125/125 [==============================] - 17s 136ms/step - loss: 0.0141 - acc: 0.7901\n",
      "Epoch 58/125\n",
      "125/125 [==============================] - 17s 137ms/step - loss: 0.0137 - acc: 0.7902\n",
      "Epoch 59/125\n",
      "125/125 [==============================] - 17s 136ms/step - loss: 0.0135 - acc: 0.7903\n",
      "Epoch 60/125\n",
      "125/125 [==============================] - 17s 136ms/step - loss: 0.0133 - acc: 0.7904\n",
      "Epoch 61/125\n",
      "125/125 [==============================] - 17s 137ms/step - loss: 0.0134 - acc: 0.7905\n",
      "Epoch 62/125\n",
      "125/125 [==============================] - 17s 136ms/step - loss: 0.0137 - acc: 0.7905\n",
      "Epoch 63/125\n",
      "125/125 [==============================] - 17s 136ms/step - loss: 0.0131 - acc: 0.7906\n",
      "Epoch 64/125\n",
      "125/125 [==============================] - 17s 136ms/step - loss: 0.0131 - acc: 0.7907\n",
      "Epoch 65/125\n",
      "125/125 [==============================] - 17s 136ms/step - loss: 0.0129 - acc: 0.7908\n",
      "Epoch 66/125\n",
      "125/125 [==============================] - 17s 137ms/step - loss: 0.0126 - acc: 0.7909\n",
      "Epoch 67/125\n",
      "125/125 [==============================] - 17s 137ms/step - loss: 0.0128 - acc: 0.7909\n",
      "Epoch 68/125\n",
      "125/125 [==============================] - 17s 136ms/step - loss: 0.0126 - acc: 0.7910\n",
      "Epoch 69/125\n",
      "125/125 [==============================] - 17s 137ms/step - loss: 0.0126 - acc: 0.7910\n",
      "Epoch 70/125\n",
      "125/125 [==============================] - 17s 138ms/step - loss: 0.0124 - acc: 0.7910\n",
      "Epoch 71/125\n",
      "125/125 [==============================] - 17s 137ms/step - loss: 0.0127 - acc: 0.7911\n",
      "Epoch 72/125\n",
      "125/125 [==============================] - 17s 137ms/step - loss: 0.0124 - acc: 0.7912\n",
      "Epoch 73/125\n",
      "125/125 [==============================] - 17s 136ms/step - loss: 0.0123 - acc: 0.7912\n",
      "Epoch 74/125\n",
      "125/125 [==============================] - 17s 137ms/step - loss: 0.0123 - acc: 0.7913\n",
      "Epoch 75/125\n",
      "125/125 [==============================] - 17s 137ms/step - loss: 0.0122 - acc: 0.7913\n",
      "Epoch 76/125\n",
      "125/125 [==============================] - 17s 137ms/step - loss: 0.0122 - acc: 0.7914\n",
      "Epoch 77/125\n",
      "125/125 [==============================] - 17s 137ms/step - loss: 0.0119 - acc: 0.7915\n",
      "Epoch 78/125\n",
      "125/125 [==============================] - 17s 136ms/step - loss: 0.0121 - acc: 0.7915\n",
      "Epoch 79/125\n",
      "125/125 [==============================] - 17s 136ms/step - loss: 0.0120 - acc: 0.7915\n",
      "Epoch 80/125\n",
      "125/125 [==============================] - 17s 137ms/step - loss: 0.0117 - acc: 0.7916\n",
      "Epoch 81/125\n",
      "125/125 [==============================] - 17s 136ms/step - loss: 0.0114 - acc: 0.7917\n",
      "Epoch 82/125\n",
      "125/125 [==============================] - 17s 135ms/step - loss: 0.0115 - acc: 0.7917\n",
      "Epoch 83/125\n",
      "125/125 [==============================] - 17s 137ms/step - loss: 0.0116 - acc: 0.7917\n",
      "Epoch 84/125\n",
      "125/125 [==============================] - 17s 136ms/step - loss: 0.0113 - acc: 0.7918\n",
      "Epoch 85/125\n",
      "125/125 [==============================] - 17s 136ms/step - loss: 0.0112 - acc: 0.7919\n",
      "Epoch 86/125\n",
      "125/125 [==============================] - 17s 136ms/step - loss: 0.0114 - acc: 0.7919\n",
      "Epoch 87/125\n",
      "125/125 [==============================] - 17s 138ms/step - loss: 0.0116 - acc: 0.7919\n",
      "Epoch 88/125\n",
      "125/125 [==============================] - 17s 136ms/step - loss: 0.0111 - acc: 0.7920\n",
      "Epoch 89/125\n",
      "125/125 [==============================] - 17s 137ms/step - loss: 0.0112 - acc: 0.7920\n",
      "Epoch 90/125\n",
      "125/125 [==============================] - 17s 136ms/step - loss: 0.0110 - acc: 0.7921\n",
      "Epoch 91/125\n",
      "125/125 [==============================] - 17s 136ms/step - loss: 0.0108 - acc: 0.7921\n",
      "Epoch 92/125\n",
      "125/125 [==============================] - 17s 137ms/step - loss: 0.0108 - acc: 0.7922\n",
      "Epoch 93/125\n",
      "125/125 [==============================] - 17s 137ms/step - loss: 0.0110 - acc: 0.7922\n",
      "Epoch 94/125\n",
      "125/125 [==============================] - 17s 138ms/step - loss: 0.0108 - acc: 0.7922\n",
      "Epoch 95/125\n",
      "125/125 [==============================] - 17s 137ms/step - loss: 0.0107 - acc: 0.7923\n",
      "Epoch 96/125\n",
      "125/125 [==============================] - 17s 137ms/step - loss: 0.0108 - acc: 0.7922\n",
      "Epoch 97/125\n",
      "125/125 [==============================] - 17s 137ms/step - loss: 0.0107 - acc: 0.7923\n",
      "Epoch 98/125\n",
      "125/125 [==============================] - 17s 137ms/step - loss: 0.0105 - acc: 0.7924\n",
      "Epoch 99/125\n",
      "125/125 [==============================] - 17s 138ms/step - loss: 0.0105 - acc: 0.7924\n",
      "Epoch 100/125\n",
      "125/125 [==============================] - 17s 136ms/step - loss: 0.0105 - acc: 0.7924\n",
      "Epoch 101/125\n",
      "125/125 [==============================] - 17s 137ms/step - loss: 0.0105 - acc: 0.7924\n",
      "Epoch 102/125\n",
      "125/125 [==============================] - 17s 138ms/step - loss: 0.0106 - acc: 0.7925\n",
      "Epoch 103/125\n",
      "125/125 [==============================] - 17s 137ms/step - loss: 0.0104 - acc: 0.7925\n",
      "Epoch 104/125\n",
      "125/125 [==============================] - 17s 137ms/step - loss: 0.0104 - acc: 0.7925\n",
      "Epoch 105/125\n",
      "125/125 [==============================] - 17s 137ms/step - loss: 0.0103 - acc: 0.7926\n",
      "Epoch 106/125\n",
      "125/125 [==============================] - 17s 138ms/step - loss: 0.0102 - acc: 0.7926\n",
      "Epoch 107/125\n",
      "125/125 [==============================] - 17s 136ms/step - loss: 0.0102 - acc: 0.7926\n",
      "Epoch 108/125\n",
      "125/125 [==============================] - 17s 138ms/step - loss: 0.0101 - acc: 0.7926\n",
      "Epoch 109/125\n",
      "125/125 [==============================] - 17s 137ms/step - loss: 0.0101 - acc: 0.7927\n",
      "Epoch 110/125\n",
      "125/125 [==============================] - 17s 138ms/step - loss: 0.0100 - acc: 0.7927\n",
      "Epoch 111/125\n",
      "125/125 [==============================] - 17s 136ms/step - loss: 0.0102 - acc: 0.7927\n",
      "Epoch 112/125\n",
      "125/125 [==============================] - 17s 136ms/step - loss: 0.0101 - acc: 0.7927\n",
      "Epoch 113/125\n",
      "125/125 [==============================] - 17s 137ms/step - loss: 0.0100 - acc: 0.7928\n",
      "Epoch 114/125\n",
      "125/125 [==============================] - 17s 138ms/step - loss: 0.0100 - acc: 0.7928\n",
      "Epoch 115/125\n",
      "125/125 [==============================] - 17s 137ms/step - loss: 0.0097 - acc: 0.7929\n",
      "Epoch 116/125\n",
      "125/125 [==============================] - 17s 137ms/step - loss: 0.0097 - acc: 0.7929\n",
      "Epoch 117/125\n",
      "125/125 [==============================] - 17s 136ms/step - loss: 0.0098 - acc: 0.7929\n",
      "Epoch 118/125\n",
      "125/125 [==============================] - 17s 136ms/step - loss: 0.0102 - acc: 0.7929\n",
      "Epoch 119/125\n",
      "125/125 [==============================] - 17s 137ms/step - loss: 0.0097 - acc: 0.7929\n",
      "Epoch 120/125\n",
      "125/125 [==============================] - 17s 137ms/step - loss: 0.0095 - acc: 0.7930\n",
      "Epoch 121/125\n",
      "125/125 [==============================] - 17s 136ms/step - loss: 0.0096 - acc: 0.7929\n",
      "Epoch 122/125\n",
      "125/125 [==============================] - 17s 136ms/step - loss: 0.0095 - acc: 0.7930\n",
      "Epoch 123/125\n",
      "125/125 [==============================] - 17s 137ms/step - loss: 0.0095 - acc: 0.7930\n",
      "Epoch 124/125\n",
      "125/125 [==============================] - 17s 137ms/step - loss: 0.0094 - acc: 0.7930\n",
      "Epoch 125/125\n",
      "125/125 [==============================] - 17s 136ms/step - loss: 0.0096 - acc: 0.7930\n"
     ]
    },
    {
     "data": {
      "image/png": "[encoded data removed]",
      "text/plain": [
       "<Figure size 432x288 with 1 Axes>"
      ]
     },
     "metadata": {
      "needs_background": "light"
     },
     "output_type": "display_data"
    }
   ],
   "source": [
    "model, history = train(model,'training')"
   ]
  },
  {
   "cell_type": "markdown",
   "metadata": {},
   "source": [
    "## Loading the Saved Model\n",
    "The trained model is now loaded so that it can be evaluated and used for testing."
   ]
  },
  {
   "cell_type": "code",
   "execution_count": 23,
   "metadata": {},
   "outputs": [],
   "source": [
    "model = load_model('model_train_new.h5')"
   ]
  },
  {
   "cell_type": "markdown",
   "metadata": {},
   "source": [
    "## Model Evaluation\n",
    "The reconstruction error of all\n",
    "pixel values I in frame t of the video sequence is taken as the Euclidean distance\n",
    "between the input frame and the reconstructed frame:\n",
    "\n",
    "**e(t) = ||x(t) − fW (x(t))||2**\n",
    "\n",
    "where fW is the learned weights by the spatiotemporal model. We then\n",
    "compute the abnormality score sa(t) by scaling between 0 and 1. Subsequently,\n",
    "regularity score sr(t) can be simply derived by subtracting abnormality score\n",
    "from 1:\n",
    "\n",
    "**sa(t) = (e(t) − e(t)min)/e(t)max**\n",
    "\n",
    "**sr(t) = 1 − sa(t)**"
   ]
  },
  {
   "cell_type": "code",
   "execution_count": 56,
   "metadata": {
    "scrolled": true
   },
   "outputs": [],
   "source": [
    "def mean_squared_loss(x1,x2):\n",
    "    #Compute Euclidean Distance Loss between input frame(x1) and the reconstructed frame(x2) pixel values.\n",
    "    diff=x1-x2\n",
    "    a,b,c,d,e=diff.shape\n",
    "    #Number of samples is product of all the dimensions.\n",
    "    n_samples=a*b*c*d*e\n",
    "    #Square of distance\n",
    "    sq_diff=diff**2\n",
    "    #Sum of Square of distance(difference) between pixel values.\n",
    "    Sum=sq_diff.sum()\n",
    "    #Mean of Sum of Square of distance(difference) between pixel values(MSE).\n",
    "    mean_dist=Sum/n_samples\n",
    "    return mean_dist\n",
    "\n",
    "def detectAnomaly(X_test,model):\n",
    "    #Just to print if any anomalies of no.\n",
    "    flag = 0\n",
    "    #Set after proper evaluating the irregularity score with manual observation in videos by approximately calculating\n",
    "    #frame bunch number.\n",
    "    threshold = 0.1\n",
    "    mainnum = 1\n",
    "    #Check for irregularity in set of 5 consecutive frame bunches. Each bunch is a set of 10 consecutive frames of 227x227.\n",
    "    for i in range(0,len(X_test),5):\n",
    "        inter = X_test[i:i+5]\n",
    "        losslist = []\n",
    "        bunchnumlist = []\n",
    "        for number,bunch in enumerate(inter):\n",
    "            n_bunch=np.expand_dims(bunch,axis=0)\n",
    "            reconstructed_bunch=model.predict(n_bunch)\n",
    "            loss=mean_squared_loss(n_bunch,reconstructed_bunch)\n",
    "            losslist.append(loss)\n",
    "        #Calculating the irregularity score from the MSE loss of 5 consecutive frame bunches.\n",
    "        #If the score of any frame bunch is greater than threshold, Print anomaly found.\n",
    "        for n,l in enumerate(losslist):\n",
    "            score = (l-min(losslist))/max(losslist)\n",
    "#             print(score)\n",
    "            if score > threshold:\n",
    "                print(\"Anomalous bunch of frames at bunch number {}. Score of frame {} was higher.\".format(mainnum,n+1))\n",
    "                flag=1\n",
    "        mainnum = mainnum+1\n",
    "    if flag==1:\n",
    "        print(\"Anomaly found\")"
   ]
  },
  {
   "cell_type": "code",
   "execution_count": 55,
   "metadata": {
    "scrolled": true
   },
   "outputs": [
    {
     "name": "stdout",
     "output_type": "stream",
     "text": [
      "1258\n",
      "(125, 227, 227, 10)\n",
      "(125, 227, 227, 10, 1)\n",
      "Anomalous bunch of frames at bunch number 1. Score of frame 1 was higher.\n",
      "Anomalous bunch of frames at bunch number 3. Score of frame 4 was higher.\n",
      "Anomalous bunch of frames at bunch number 3. Score of frame 5 was higher.\n",
      "Anomalous bunch of frames at bunch number 5. Score of frame 1 was higher.\n",
      "Anomalous bunch of frames at bunch number 5. Score of frame 2 was higher.\n",
      "Anomalous bunch of frames at bunch number 5. Score of frame 3 was higher.\n",
      "Anomalous bunch of frames at bunch number 8. Score of frame 5 was higher.\n",
      "Anomalous bunch of frames at bunch number 9. Score of frame 1 was higher.\n",
      "Anomalous bunch of frames at bunch number 9. Score of frame 2 was higher.\n",
      "Anomalous bunch of frames at bunch number 11. Score of frame 4 was higher.\n",
      "Anomalous bunch of frames at bunch number 11. Score of frame 5 was higher.\n",
      "Anomalous bunch of frames at bunch number 12. Score of frame 1 was higher.\n",
      "Anomalous bunch of frames at bunch number 12. Score of frame 2 was higher.\n",
      "Anomalous bunch of frames at bunch number 14. Score of frame 5 was higher.\n",
      "Anomalous bunch of frames at bunch number 15. Score of frame 1 was higher.\n",
      "Anomalous bunch of frames at bunch number 15. Score of frame 3 was higher.\n",
      "Anomalous bunch of frames at bunch number 16. Score of frame 1 was higher.\n",
      "Anomalous bunch of frames at bunch number 16. Score of frame 2 was higher.\n",
      "Anomalous bunch of frames at bunch number 18. Score of frame 3 was higher.\n",
      "Anomalous bunch of frames at bunch number 18. Score of frame 4 was higher.\n",
      "Anomalous bunch of frames at bunch number 18. Score of frame 5 was higher.\n",
      "Anomalous bunch of frames at bunch number 20. Score of frame 1 was higher.\n",
      "Anomalous bunch of frames at bunch number 21. Score of frame 2 was higher.\n",
      "Anomalous bunch of frames at bunch number 21. Score of frame 5 was higher.\n",
      "Anomalous bunch of frames at bunch number 24. Score of frame 1 was higher.\n",
      "Anomalous bunch of frames at bunch number 24. Score of frame 2 was higher.\n",
      "Anomalous bunch of frames at bunch number 25. Score of frame 5 was higher.\n",
      "Anomaly found\n"
     ]
    }
   ],
   "source": [
    "X_test,_ = loadFrames('testing.npy')\n",
    "detectAnomaly(X_test, model)"
   ]
  },
  {
   "cell_type": "markdown",
   "metadata": {},
   "source": [
    "**The model was first tested on the testing dataset.**"
   ]
  },
  {
   "cell_type": "markdown",
   "metadata": {},
   "source": [
    "## Testing on a particular video"
   ]
  },
  {
   "cell_type": "markdown",
   "metadata": {},
   "source": [
    "**The model was now tested on a particular video to see if it has anomalies.**"
   ]
  },
  {
   "cell_type": "code",
   "execution_count": 57,
   "metadata": {
    "scrolled": true
   },
   "outputs": [
    {
     "name": "stdout",
     "output_type": "stream",
     "text": [
      "98\n",
      "(9, 227, 227, 10)\n",
      "(9, 227, 227, 10, 1)\n",
      "Anomalous bunch of frames at bunch number 1. Score of frame 2 was higher.\n",
      "Anomaly found\n"
     ]
    }
   ],
   "source": [
    "imstore = []\n",
    "preprocess(os.getcwd()+'/mytest/', imstore, 'mytesting',2)\n",
    "del imstore\n",
    "X_test,_ = loadFrames('mytesting.npy')\n",
    "detectAnomaly(X_test, model)"
   ]
  },
  {
   "cell_type": "markdown",
   "metadata": {},
   "source": [
    "## Testing on live feed\n",
    "**Live camera feed is captured and checked for anomalies if any**"
   ]
  },
  {
   "cell_type": "code",
   "execution_count": 1,
   "metadata": {},
   "outputs": [
    {
     "name": "stderr",
     "output_type": "stream",
     "text": [
      "F:\\anaconda\\lib\\site-packages\\h5py\\__init__.py:36: FutureWarning: Conversion of the second argument of issubdtype from `float` to `np.floating` is deprecated. In future, it will be treated as `np.float64 == np.dtype(float).type`.\n",
      "  from ._conv import register_converters as _register_converters\n",
      "Using TensorFlow backend.\n"
     ]
    }
   ],
   "source": [
    "import cv2\n",
    "import numpy as np \n",
    "from scipy.misc import imresize\n",
    "from keras.models import load_model"
   ]
  },
  {
   "cell_type": "code",
   "execution_count": 2,
   "metadata": {},
   "outputs": [
    {
     "name": "stdout",
     "output_type": "stream",
     "text": [
      "Loading model\n",
      "Model loaded\n",
      "Anomalous bunch of frames at bunch number 1. Score of frame 4 was higher.\n",
      "Anomaly found\n"
     ]
    }
   ],
   "source": [
    "vc=cv2.VideoCapture(0)\n",
    "rval=True\n",
    "print('Loading model')\n",
    "model=load_model('model_train_new.h5')\n",
    "print('Model loaded')\n",
    "threshold = 0.1\n",
    "for k in range(10):\n",
    "    imagedump=[]\n",
    "    for j in range(10):\n",
    "        for i in range(10):\n",
    "            rval,frame=vc.read()\n",
    "            frame=imresize(frame,(227,227,3))\n",
    "            #Convert the Image to Grayscale\n",
    "            gray=0.2989*frame[:,:,0]+0.5870*frame[:,:,1]+0.1140*frame[:,:,2]\n",
    "            gray=(gray-gray.mean())/gray.std()\n",
    "            gray=np.clip(gray,0,1)\n",
    "            imagedump.append(gray)\n",
    "    imagedump=np.array(imagedump)\n",
    "    imagedump.resize(10,227,227,10)\n",
    "    imagedump=np.expand_dims(imagedump,axis=4)\n",
    "    print(imagedump.shape)\n",
    "    detectAnomaly(imagedump, model)\n",
    "    \n",
    "    \n",
    "#     output=model.predict(imagedump)\n",
    "#     loss=mean_squared_loss(imagedump,output)\n",
    "#     if loss>threshold:\n",
    "#         print('Anomalies Detected')\n",
    "        \n",
    "        \n",
    "#     for number,bunch in enumerate(inter):\n",
    "#         n_bunch=np.expand_dims(bunch,axis=0)\n",
    "#         reconstructed_bunch=model.predict(n_bunch)\n",
    "#         loss=mean_squared_loss(n_bunch,reconstructed_bunch)\n",
    "#         losslist.append(loss)\n",
    "#         bunchnumlist.append(number)\n",
    "#         #Calculating the irregularity score from the MSE loss of 5 consecutive frame bunches.\n",
    "#         #If the score of any frame bunch is greater than threshold, Print anomaly found.\n",
    "#     for n,l in enumerate(losslist):\n",
    "#         score = (l-min(losslist))/max(losslist)\n",
    "#         if score > threshold:\n",
    "#             print(\"Anomalous bunch of frames at bunch number {}. Score of frame {} was higher.\".format(mainnum,n+1))\n",
    "#             flag=1\n",
    "vc.release()"
   ]
  },
  {
   "cell_type": "markdown",
   "metadata": {},
   "source": [
    "## Conclusion\n",
    "**The model gave decent predictions on all the 3, Testing dataset, on a standalone video and on a live feed. The training data had maximum data of people walking far away from the camera and hence when someone walks near to the camera, the model shows Anomaly Found. The verification of the prediction of model on the Testing dataset was done by manually visiting the testing dataset frames and calculating the video from the frame bunch number and FramesPerSeconds used to extract frames from videos. Since its an unsupervised model, this was the only approach came to my mind to evaluate the model's testing accuracy. Hence apart from the frame numbers and bunch numbers, i could not display any other data to showcase the model accuracy.**"
   ]
  },
  {
   "cell_type": "markdown",
   "metadata": {},
   "source": [
    "**To conclude, A Spatiotemporal CNN can be used to train a model using unsupervised learning which can help in finding anomalies, which can be difficult to find by a supervised learning algorithm due to lack of unbiased datasets.**"
   ]
  },
  {
   "cell_type": "markdown",
   "metadata": {},
   "source": [
    "## Citations\n",
    "https://www.semanticscholar.org/paper/An-Overview-of-Deep-Learning-Based-Methods-for-and-Kiran-Thomas/7198f45e979d4e7bb2ad2f8a5f098ab196c532b6\n",
    "\n",
    "https://www.semanticscholar.org/paper/Improved-anomaly-detection-in-surveillance-videos-a-Khaleghi-Moin/1a5c917ec7763c2ff9619e6f19d02d2f254d236a\n",
    "\n",
    "https://www.semanticscholar.org/paper/A-Short-Review-of-Deep-Learning-Methods-for-Group-Borja-Borja-Saval-Calvo/d9db8a4ce5ae4c4d03a55c648f4e7006838b6952\n",
    "\n",
    "https://www.semanticscholar.org/paper/Context-encoding-Variational-Autoencoder-for-Zimmerer-Kohl/2f3a2e24fb0ea3a9b6a4ebf0430886fdfa3efdd3\n",
    "\n",
    "https://machinelearningmastery.com/cnn-long-short-term-memory-networks/\n",
    "\n",
    "https://arxiv.org/abs/1411.4389\n",
    "\n",
    "https://www.coursera.org/lecture/nlp-sequence-models/long-short-term-memory-lstm-KXoay\n",
    "\n",
    "https://towardsdatascience.com/a-comprehensive-guide-to-convolutional-neural-networks-the-eli5-way-3bd2b1164a53\n",
    "\n",
    "https://www.ncbi.nlm.nih.gov/pubmed/22392705\n",
    "\n",
    "https://arxiv.org/abs/1604.04574\n",
    "\n",
    "https://www.researchgate.net/publication/221361667_Anomaly_detection_in_extremely_crowded_scenes_using_spatio-temporal_motion_pattern_models\n",
    "\n",
    "https://pennstate.pure.elsevier.com/en/publications/adaptive-sparse-representations-for-video-anomaly-detection"
   ]
  },
  {
   "cell_type": "markdown",
   "metadata": {},
   "source": [
    "## Declaration of adapted code\n",
    "* The approach for preprocessing and providing proper input to model was referenced from paper https://arxiv.org/pdf/1701.01546.pdf . **But the code was entirely written after understanding the approach.**\n",
    "* The model architecture was developed from paper https://arxiv.org/pdf/1701.01546.pdf . **But this was considered as the base model and many improvements were made over this model.**\n",
    "* The code for grayscaling a colored image was referenced from stackoverflow post"
   ]
  },
  {
   "cell_type": "markdown",
   "metadata": {},
   "source": [
    "## Scope of this project\n",
    "Since this project was a solo project, and considering that this was my first time working with video analytics, I feel that understanding the video preprocessing and its feature extraction, performing experiments on the base model architecture (which can be viewed in experiments.ipynb), evaluating the model manually on the Testing dataset, on an individual standalone video and in live camera feed was sufficient enough for the project."
   ]
  },
  {
   "cell_type": "markdown",
   "metadata": {},
   "source": [
    "## License"
   ]
  },
  {
   "cell_type": "markdown",
   "metadata": {},
   "source": [
    "MIT License\n",
    "\n",
    "Copyright (c) 2019 Kirti Shukla\n",
    "\n",
    "Permission is hereby granted, free of charge, to any person obtaining a copy\n",
    "of this software and associated documentation files (the \"Software\"), to deal\n",
    "in the Software without restriction, including without limitation the rights\n",
    "to use, copy, modify, merge, publish, distribute, sublicense, and/or sell\n",
    "copies of the Software, and to permit persons to whom the Software is\n",
    "furnished to do so, subject to the following conditions:\n",
    "\n",
    "The above copyright notice and this permission notice shall be included in all\n",
    "copies or substantial portions of the Software.\n",
    "\n",
    "THE SOFTWARE IS PROVIDED \"AS IS\", WITHOUT WARRANTY OF ANY KIND, EXPRESS OR\n",
    "IMPLIED, INCLUDING BUT NOT LIMITED TO THE WARRANTIES OF MERCHANTABILITY,\n",
    "FITNESS FOR A PARTICULAR PURPOSE AND NONINFRINGEMENT. IN NO EVENT SHALL THE\n",
    "AUTHORS OR COPYRIGHT HOLDERS BE LIABLE FOR ANY CLAIM, DAMAGES OR OTHER\n",
    "LIABILITY, WHETHER IN AN ACTION OF CONTRACT, TORT OR OTHERWISE, ARISING FROM,\n",
    "OUT OF OR IN CONNECTION WITH THE SOFTWARE OR THE USE OR OTHER DEALINGS IN THE\n",
    "SOFTWARE."
   ]
  },
  {
   "cell_type": "code",
   "execution_count": null,
   "metadata": {},
   "outputs": [],
   "source": []
  }
 ],
 "metadata": {
  "kernelspec": {
   "display_name": "Python 3",
   "language": "python",
   "name": "python3"
  },
  "language_info": {
   "codemirror_mode": {
    "name": "ipython",
    "version": 3
   },
   "file_extension": ".py",
   "mimetype": "text/x-python",
   "name": "python",
   "nbconvert_exporter": "python",
   "pygments_lexer": "ipython3",
   "version": "3.6.5"
  }
 },
 "nbformat": 4,
 "nbformat_minor": 2
}
