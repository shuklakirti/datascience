{
 "cells": [
  {
   "cell_type": "markdown",
   "metadata": {},
   "source": [
    "# Abstract : \n",
    "In this Kaggle competition we're predicting the forest cover type (the predominant kind of tree cover) from strictly cartographic variables (as opposed to remotely sensed data).  The actual forest cover type for a given 30 x 30 meter cell was determined from US Forest Service (USFS) Region 2 Resource Information System data. Independent variables were then derived from data obtained from the US Geological Survey and USFS. The data is in raw form (not scaled) and contains binary columns of data for qualitative independent variables such as wilderness areas and soil type.\n",
    "\n",
    "This study area includes four wilderness areas located in the Roosevelt National Forest of northern Colorado. These areas represent forests with minimal human-caused disturbances, so that existing forest cover types are more a result of ecological processes rather than forest management practices.\n",
    "\n",
    "Each observation is a 30m x 30m patch. You are asked to predict an integer classification for the forest cover type. The seven types are:\n",
    "\n",
    "- Spruce/Fir\n",
    "- Lodgepole Pine\n",
    "- Ponderosa Pine\n",
    "- Cottonwood/Willow\n",
    "- Aspen\n",
    "- Douglas-fir\n",
    "- Krummholz\n",
    "\n",
    "The training set (15120 observations) contains both features and the Cover_Type. The test set contains only the features. You must predict the Cover_Type for every row in the test set (565892 observations).\n",
    "\n"
   ]
  },
  {
   "cell_type": "code",
   "execution_count": 1,
   "metadata": {},
   "outputs": [],
   "source": [
    "import pandas as pd\n",
    "import numpy as np\n",
    "from sklearn.ensemble import ExtraTreesClassifier\n",
    "import h2o\n",
    "\n",
    "from h2o.automl import H2OAutoML\n",
    "\n",
    "\n",
    "\n",
    "\n",
    " "
   ]
  },
  {
   "cell_type": "code",
   "execution_count": 2,
   "metadata": {},
   "outputs": [],
   "source": [
    "df_train = pd.read_csv('train.csv')\n",
    "df_test = pd.read_csv('test.csv')\n",
    "\n"
   ]
  },
  {
   "cell_type": "code",
   "execution_count": 3,
   "metadata": {},
   "outputs": [
    {
     "data": {
      "text/plain": [
       "(15120, 56)"
      ]
     },
     "execution_count": 3,
     "metadata": {},
     "output_type": "execute_result"
    }
   ],
   "source": [
    "df_train.shape"
   ]
  },
  {
   "cell_type": "code",
   "execution_count": 4,
   "metadata": {},
   "outputs": [
    {
     "data": {
      "text/plain": [
       "(565892, 55)"
      ]
     },
     "execution_count": 4,
     "metadata": {},
     "output_type": "execute_result"
    }
   ],
   "source": [
    "df_test.shape"
   ]
  },
  {
   "cell_type": "markdown",
   "metadata": {},
   "source": [
    "# Total of 15,120 enteries in Train and 565,892 enteries in Test dataset\n",
    "\n",
    "# Lets explore the data"
   ]
  },
  {
   "cell_type": "code",
   "execution_count": 5,
   "metadata": {},
   "outputs": [
    {
     "data": {
      "text/html": [
       "<div>\n",
       "<style scoped>\n",
       "    .dataframe tbody tr th:only-of-type {\n",
       "        vertical-align: middle;\n",
       "    }\n",
       "\n",
       "    .dataframe tbody tr th {\n",
       "        vertical-align: top;\n",
       "    }\n",
       "\n",
       "    .dataframe thead th {\n",
       "        text-align: right;\n",
       "    }\n",
       "</style>\n",
       "<table border=\"1\" class=\"dataframe\">\n",
       "  <thead>\n",
       "    <tr style=\"text-align: right;\">\n",
       "      <th></th>\n",
       "      <th>Id</th>\n",
       "      <th>Elevation</th>\n",
       "      <th>Aspect</th>\n",
       "      <th>Slope</th>\n",
       "      <th>Horizontal_Distance_To_Hydrology</th>\n",
       "      <th>Vertical_Distance_To_Hydrology</th>\n",
       "      <th>Horizontal_Distance_To_Roadways</th>\n",
       "      <th>Hillshade_9am</th>\n",
       "      <th>Hillshade_Noon</th>\n",
       "      <th>Hillshade_3pm</th>\n",
       "      <th>...</th>\n",
       "      <th>Soil_Type32</th>\n",
       "      <th>Soil_Type33</th>\n",
       "      <th>Soil_Type34</th>\n",
       "      <th>Soil_Type35</th>\n",
       "      <th>Soil_Type36</th>\n",
       "      <th>Soil_Type37</th>\n",
       "      <th>Soil_Type38</th>\n",
       "      <th>Soil_Type39</th>\n",
       "      <th>Soil_Type40</th>\n",
       "      <th>Cover_Type</th>\n",
       "    </tr>\n",
       "  </thead>\n",
       "  <tbody>\n",
       "    <tr>\n",
       "      <th>0</th>\n",
       "      <td>1</td>\n",
       "      <td>2596</td>\n",
       "      <td>51</td>\n",
       "      <td>3</td>\n",
       "      <td>258</td>\n",
       "      <td>0</td>\n",
       "      <td>510</td>\n",
       "      <td>221</td>\n",
       "      <td>232</td>\n",
       "      <td>148</td>\n",
       "      <td>...</td>\n",
       "      <td>0</td>\n",
       "      <td>0</td>\n",
       "      <td>0</td>\n",
       "      <td>0</td>\n",
       "      <td>0</td>\n",
       "      <td>0</td>\n",
       "      <td>0</td>\n",
       "      <td>0</td>\n",
       "      <td>0</td>\n",
       "      <td>5</td>\n",
       "    </tr>\n",
       "    <tr>\n",
       "      <th>1</th>\n",
       "      <td>2</td>\n",
       "      <td>2590</td>\n",
       "      <td>56</td>\n",
       "      <td>2</td>\n",
       "      <td>212</td>\n",
       "      <td>-6</td>\n",
       "      <td>390</td>\n",
       "      <td>220</td>\n",
       "      <td>235</td>\n",
       "      <td>151</td>\n",
       "      <td>...</td>\n",
       "      <td>0</td>\n",
       "      <td>0</td>\n",
       "      <td>0</td>\n",
       "      <td>0</td>\n",
       "      <td>0</td>\n",
       "      <td>0</td>\n",
       "      <td>0</td>\n",
       "      <td>0</td>\n",
       "      <td>0</td>\n",
       "      <td>5</td>\n",
       "    </tr>\n",
       "    <tr>\n",
       "      <th>2</th>\n",
       "      <td>3</td>\n",
       "      <td>2804</td>\n",
       "      <td>139</td>\n",
       "      <td>9</td>\n",
       "      <td>268</td>\n",
       "      <td>65</td>\n",
       "      <td>3180</td>\n",
       "      <td>234</td>\n",
       "      <td>238</td>\n",
       "      <td>135</td>\n",
       "      <td>...</td>\n",
       "      <td>0</td>\n",
       "      <td>0</td>\n",
       "      <td>0</td>\n",
       "      <td>0</td>\n",
       "      <td>0</td>\n",
       "      <td>0</td>\n",
       "      <td>0</td>\n",
       "      <td>0</td>\n",
       "      <td>0</td>\n",
       "      <td>2</td>\n",
       "    </tr>\n",
       "    <tr>\n",
       "      <th>3</th>\n",
       "      <td>4</td>\n",
       "      <td>2785</td>\n",
       "      <td>155</td>\n",
       "      <td>18</td>\n",
       "      <td>242</td>\n",
       "      <td>118</td>\n",
       "      <td>3090</td>\n",
       "      <td>238</td>\n",
       "      <td>238</td>\n",
       "      <td>122</td>\n",
       "      <td>...</td>\n",
       "      <td>0</td>\n",
       "      <td>0</td>\n",
       "      <td>0</td>\n",
       "      <td>0</td>\n",
       "      <td>0</td>\n",
       "      <td>0</td>\n",
       "      <td>0</td>\n",
       "      <td>0</td>\n",
       "      <td>0</td>\n",
       "      <td>2</td>\n",
       "    </tr>\n",
       "    <tr>\n",
       "      <th>4</th>\n",
       "      <td>5</td>\n",
       "      <td>2595</td>\n",
       "      <td>45</td>\n",
       "      <td>2</td>\n",
       "      <td>153</td>\n",
       "      <td>-1</td>\n",
       "      <td>391</td>\n",
       "      <td>220</td>\n",
       "      <td>234</td>\n",
       "      <td>150</td>\n",
       "      <td>...</td>\n",
       "      <td>0</td>\n",
       "      <td>0</td>\n",
       "      <td>0</td>\n",
       "      <td>0</td>\n",
       "      <td>0</td>\n",
       "      <td>0</td>\n",
       "      <td>0</td>\n",
       "      <td>0</td>\n",
       "      <td>0</td>\n",
       "      <td>5</td>\n",
       "    </tr>\n",
       "  </tbody>\n",
       "</table>\n",
       "<p>5 rows × 56 columns</p>\n",
       "</div>"
      ],
      "text/plain": [
       "   Id  Elevation  Aspect  Slope  Horizontal_Distance_To_Hydrology  \\\n",
       "0   1       2596      51      3                               258   \n",
       "1   2       2590      56      2                               212   \n",
       "2   3       2804     139      9                               268   \n",
       "3   4       2785     155     18                               242   \n",
       "4   5       2595      45      2                               153   \n",
       "\n",
       "   Vertical_Distance_To_Hydrology  Horizontal_Distance_To_Roadways  \\\n",
       "0                               0                              510   \n",
       "1                              -6                              390   \n",
       "2                              65                             3180   \n",
       "3                             118                             3090   \n",
       "4                              -1                              391   \n",
       "\n",
       "   Hillshade_9am  Hillshade_Noon  Hillshade_3pm     ...      Soil_Type32  \\\n",
       "0            221             232            148     ...                0   \n",
       "1            220             235            151     ...                0   \n",
       "2            234             238            135     ...                0   \n",
       "3            238             238            122     ...                0   \n",
       "4            220             234            150     ...                0   \n",
       "\n",
       "   Soil_Type33  Soil_Type34  Soil_Type35  Soil_Type36  Soil_Type37  \\\n",
       "0            0            0            0            0            0   \n",
       "1            0            0            0            0            0   \n",
       "2            0            0            0            0            0   \n",
       "3            0            0            0            0            0   \n",
       "4            0            0            0            0            0   \n",
       "\n",
       "   Soil_Type38  Soil_Type39  Soil_Type40  Cover_Type  \n",
       "0            0            0            0           5  \n",
       "1            0            0            0           5  \n",
       "2            0            0            0           2  \n",
       "3            0            0            0           2  \n",
       "4            0            0            0           5  \n",
       "\n",
       "[5 rows x 56 columns]"
      ]
     },
     "execution_count": 5,
     "metadata": {},
     "output_type": "execute_result"
    }
   ],
   "source": [
    "df_train.head()"
   ]
  },
  {
   "cell_type": "code",
   "execution_count": 6,
   "metadata": {},
   "outputs": [
    {
     "data": {
      "text/plain": [
       "Index(['Id', 'Elevation', 'Aspect', 'Slope',\n",
       "       'Horizontal_Distance_To_Hydrology', 'Vertical_Distance_To_Hydrology',\n",
       "       'Horizontal_Distance_To_Roadways', 'Hillshade_9am', 'Hillshade_Noon',\n",
       "       'Hillshade_3pm', 'Horizontal_Distance_To_Fire_Points',\n",
       "       'Wilderness_Area1', 'Wilderness_Area2', 'Wilderness_Area3',\n",
       "       'Wilderness_Area4', 'Soil_Type1', 'Soil_Type2', 'Soil_Type3',\n",
       "       'Soil_Type4', 'Soil_Type5', 'Soil_Type6', 'Soil_Type7', 'Soil_Type8',\n",
       "       'Soil_Type9', 'Soil_Type10', 'Soil_Type11', 'Soil_Type12',\n",
       "       'Soil_Type13', 'Soil_Type14', 'Soil_Type15', 'Soil_Type16',\n",
       "       'Soil_Type17', 'Soil_Type18', 'Soil_Type19', 'Soil_Type20',\n",
       "       'Soil_Type21', 'Soil_Type22', 'Soil_Type23', 'Soil_Type24',\n",
       "       'Soil_Type25', 'Soil_Type26', 'Soil_Type27', 'Soil_Type28',\n",
       "       'Soil_Type29', 'Soil_Type30', 'Soil_Type31', 'Soil_Type32',\n",
       "       'Soil_Type33', 'Soil_Type34', 'Soil_Type35', 'Soil_Type36',\n",
       "       'Soil_Type37', 'Soil_Type38', 'Soil_Type39', 'Soil_Type40',\n",
       "       'Cover_Type'],\n",
       "      dtype='object')"
      ]
     },
     "execution_count": 6,
     "metadata": {},
     "output_type": "execute_result"
    }
   ],
   "source": [
    "df_train.columns"
   ]
  },
  {
   "cell_type": "code",
   "execution_count": 7,
   "metadata": {},
   "outputs": [
    {
     "data": {
      "text/html": [
       "<div>\n",
       "<style scoped>\n",
       "    .dataframe tbody tr th:only-of-type {\n",
       "        vertical-align: middle;\n",
       "    }\n",
       "\n",
       "    .dataframe tbody tr th {\n",
       "        vertical-align: top;\n",
       "    }\n",
       "\n",
       "    .dataframe thead th {\n",
       "        text-align: right;\n",
       "    }\n",
       "</style>\n",
       "<table border=\"1\" class=\"dataframe\">\n",
       "  <thead>\n",
       "    <tr style=\"text-align: right;\">\n",
       "      <th></th>\n",
       "      <th>Id</th>\n",
       "      <th>Elevation</th>\n",
       "      <th>Aspect</th>\n",
       "      <th>Slope</th>\n",
       "      <th>Horizontal_Distance_To_Hydrology</th>\n",
       "      <th>Vertical_Distance_To_Hydrology</th>\n",
       "      <th>Horizontal_Distance_To_Roadways</th>\n",
       "      <th>Hillshade_9am</th>\n",
       "      <th>Hillshade_Noon</th>\n",
       "      <th>Hillshade_3pm</th>\n",
       "      <th>Horizontal_Distance_To_Fire_Points</th>\n",
       "      <th>Wilderness_Area1</th>\n",
       "      <th>Wilderness_Area2</th>\n",
       "      <th>Wilderness_Area3</th>\n",
       "      <th>Wilderness_Area4</th>\n",
       "      <th>Soil_Type1</th>\n",
       "      <th>Soil_Type2</th>\n",
       "      <th>Soil_Type3</th>\n",
       "      <th>Soil_Type4</th>\n",
       "      <th>Soil_Type5</th>\n",
       "      <th>Soil_Type6</th>\n",
       "      <th>Soil_Type7</th>\n",
       "      <th>Soil_Type8</th>\n",
       "      <th>Soil_Type9</th>\n",
       "      <th>Soil_Type10</th>\n",
       "      <th>Soil_Type11</th>\n",
       "      <th>Soil_Type12</th>\n",
       "      <th>Soil_Type13</th>\n",
       "      <th>Soil_Type14</th>\n",
       "      <th>Soil_Type15</th>\n",
       "      <th>Soil_Type16</th>\n",
       "      <th>Soil_Type17</th>\n",
       "      <th>Soil_Type18</th>\n",
       "      <th>Soil_Type19</th>\n",
       "      <th>Soil_Type20</th>\n",
       "      <th>Soil_Type21</th>\n",
       "      <th>Soil_Type22</th>\n",
       "      <th>Soil_Type23</th>\n",
       "      <th>Soil_Type24</th>\n",
       "      <th>Soil_Type25</th>\n",
       "      <th>Soil_Type26</th>\n",
       "      <th>Soil_Type27</th>\n",
       "      <th>Soil_Type28</th>\n",
       "      <th>Soil_Type29</th>\n",
       "      <th>Soil_Type30</th>\n",
       "      <th>Soil_Type31</th>\n",
       "      <th>Soil_Type32</th>\n",
       "      <th>Soil_Type33</th>\n",
       "      <th>Soil_Type34</th>\n",
       "      <th>Soil_Type35</th>\n",
       "      <th>Soil_Type36</th>\n",
       "      <th>Soil_Type37</th>\n",
       "      <th>Soil_Type38</th>\n",
       "      <th>Soil_Type39</th>\n",
       "      <th>Soil_Type40</th>\n",
       "      <th>Cover_Type</th>\n",
       "    </tr>\n",
       "  </thead>\n",
       "  <tbody>\n",
       "    <tr>\n",
       "      <th>count</th>\n",
       "      <td>15120.00000</td>\n",
       "      <td>15120.000000</td>\n",
       "      <td>15120.000000</td>\n",
       "      <td>15120.000000</td>\n",
       "      <td>15120.000000</td>\n",
       "      <td>15120.000000</td>\n",
       "      <td>15120.000000</td>\n",
       "      <td>15120.000000</td>\n",
       "      <td>15120.000000</td>\n",
       "      <td>15120.000000</td>\n",
       "      <td>15120.000000</td>\n",
       "      <td>15120.000000</td>\n",
       "      <td>15120.000000</td>\n",
       "      <td>15120.000000</td>\n",
       "      <td>15120.000000</td>\n",
       "      <td>15120.000000</td>\n",
       "      <td>15120.000000</td>\n",
       "      <td>15120.000000</td>\n",
       "      <td>15120.000000</td>\n",
       "      <td>15120.000000</td>\n",
       "      <td>15120.000000</td>\n",
       "      <td>15120.0</td>\n",
       "      <td>15120.000000</td>\n",
       "      <td>15120.000000</td>\n",
       "      <td>15120.000000</td>\n",
       "      <td>15120.000000</td>\n",
       "      <td>15120.000000</td>\n",
       "      <td>15120.000000</td>\n",
       "      <td>15120.000000</td>\n",
       "      <td>15120.0</td>\n",
       "      <td>15120.000000</td>\n",
       "      <td>15120.000000</td>\n",
       "      <td>15120.000000</td>\n",
       "      <td>15120.000000</td>\n",
       "      <td>15120.000000</td>\n",
       "      <td>15120.000000</td>\n",
       "      <td>15120.000000</td>\n",
       "      <td>15120.000000</td>\n",
       "      <td>15120.000000</td>\n",
       "      <td>15120.000000</td>\n",
       "      <td>15120.000000</td>\n",
       "      <td>15120.000000</td>\n",
       "      <td>15120.000000</td>\n",
       "      <td>15120.000000</td>\n",
       "      <td>15120.000000</td>\n",
       "      <td>15120.000000</td>\n",
       "      <td>15120.000000</td>\n",
       "      <td>15120.000000</td>\n",
       "      <td>15120.000000</td>\n",
       "      <td>15120.000000</td>\n",
       "      <td>15120.000000</td>\n",
       "      <td>15120.000000</td>\n",
       "      <td>15120.000000</td>\n",
       "      <td>15120.000000</td>\n",
       "      <td>15120.000000</td>\n",
       "      <td>15120.000000</td>\n",
       "    </tr>\n",
       "    <tr>\n",
       "      <th>mean</th>\n",
       "      <td>7560.50000</td>\n",
       "      <td>2749.322553</td>\n",
       "      <td>156.676653</td>\n",
       "      <td>16.501587</td>\n",
       "      <td>227.195701</td>\n",
       "      <td>51.076521</td>\n",
       "      <td>1714.023214</td>\n",
       "      <td>212.704299</td>\n",
       "      <td>218.965608</td>\n",
       "      <td>135.091997</td>\n",
       "      <td>1511.147288</td>\n",
       "      <td>0.237897</td>\n",
       "      <td>0.033003</td>\n",
       "      <td>0.419907</td>\n",
       "      <td>0.309193</td>\n",
       "      <td>0.023479</td>\n",
       "      <td>0.041204</td>\n",
       "      <td>0.063624</td>\n",
       "      <td>0.055754</td>\n",
       "      <td>0.010913</td>\n",
       "      <td>0.042989</td>\n",
       "      <td>0.0</td>\n",
       "      <td>0.000066</td>\n",
       "      <td>0.000661</td>\n",
       "      <td>0.141667</td>\n",
       "      <td>0.026852</td>\n",
       "      <td>0.015013</td>\n",
       "      <td>0.031481</td>\n",
       "      <td>0.011177</td>\n",
       "      <td>0.0</td>\n",
       "      <td>0.007540</td>\n",
       "      <td>0.040476</td>\n",
       "      <td>0.003968</td>\n",
       "      <td>0.003042</td>\n",
       "      <td>0.009193</td>\n",
       "      <td>0.001058</td>\n",
       "      <td>0.022817</td>\n",
       "      <td>0.050066</td>\n",
       "      <td>0.016997</td>\n",
       "      <td>0.000066</td>\n",
       "      <td>0.003571</td>\n",
       "      <td>0.000992</td>\n",
       "      <td>0.000595</td>\n",
       "      <td>0.085384</td>\n",
       "      <td>0.047950</td>\n",
       "      <td>0.021958</td>\n",
       "      <td>0.045635</td>\n",
       "      <td>0.040741</td>\n",
       "      <td>0.001455</td>\n",
       "      <td>0.006746</td>\n",
       "      <td>0.000661</td>\n",
       "      <td>0.002249</td>\n",
       "      <td>0.048148</td>\n",
       "      <td>0.043452</td>\n",
       "      <td>0.030357</td>\n",
       "      <td>4.000000</td>\n",
       "    </tr>\n",
       "    <tr>\n",
       "      <th>std</th>\n",
       "      <td>4364.91237</td>\n",
       "      <td>417.678187</td>\n",
       "      <td>110.085801</td>\n",
       "      <td>8.453927</td>\n",
       "      <td>210.075296</td>\n",
       "      <td>61.239406</td>\n",
       "      <td>1325.066358</td>\n",
       "      <td>30.561287</td>\n",
       "      <td>22.801966</td>\n",
       "      <td>45.895189</td>\n",
       "      <td>1099.936493</td>\n",
       "      <td>0.425810</td>\n",
       "      <td>0.178649</td>\n",
       "      <td>0.493560</td>\n",
       "      <td>0.462176</td>\n",
       "      <td>0.151424</td>\n",
       "      <td>0.198768</td>\n",
       "      <td>0.244091</td>\n",
       "      <td>0.229454</td>\n",
       "      <td>0.103896</td>\n",
       "      <td>0.202840</td>\n",
       "      <td>0.0</td>\n",
       "      <td>0.008133</td>\n",
       "      <td>0.025710</td>\n",
       "      <td>0.348719</td>\n",
       "      <td>0.161656</td>\n",
       "      <td>0.121609</td>\n",
       "      <td>0.174621</td>\n",
       "      <td>0.105133</td>\n",
       "      <td>0.0</td>\n",
       "      <td>0.086506</td>\n",
       "      <td>0.197080</td>\n",
       "      <td>0.062871</td>\n",
       "      <td>0.055075</td>\n",
       "      <td>0.095442</td>\n",
       "      <td>0.032514</td>\n",
       "      <td>0.149326</td>\n",
       "      <td>0.218089</td>\n",
       "      <td>0.129265</td>\n",
       "      <td>0.008133</td>\n",
       "      <td>0.059657</td>\n",
       "      <td>0.031482</td>\n",
       "      <td>0.024391</td>\n",
       "      <td>0.279461</td>\n",
       "      <td>0.213667</td>\n",
       "      <td>0.146550</td>\n",
       "      <td>0.208699</td>\n",
       "      <td>0.197696</td>\n",
       "      <td>0.038118</td>\n",
       "      <td>0.081859</td>\n",
       "      <td>0.025710</td>\n",
       "      <td>0.047368</td>\n",
       "      <td>0.214086</td>\n",
       "      <td>0.203880</td>\n",
       "      <td>0.171574</td>\n",
       "      <td>2.000066</td>\n",
       "    </tr>\n",
       "    <tr>\n",
       "      <th>min</th>\n",
       "      <td>1.00000</td>\n",
       "      <td>1863.000000</td>\n",
       "      <td>0.000000</td>\n",
       "      <td>0.000000</td>\n",
       "      <td>0.000000</td>\n",
       "      <td>-146.000000</td>\n",
       "      <td>0.000000</td>\n",
       "      <td>0.000000</td>\n",
       "      <td>99.000000</td>\n",
       "      <td>0.000000</td>\n",
       "      <td>0.000000</td>\n",
       "      <td>0.000000</td>\n",
       "      <td>0.000000</td>\n",
       "      <td>0.000000</td>\n",
       "      <td>0.000000</td>\n",
       "      <td>0.000000</td>\n",
       "      <td>0.000000</td>\n",
       "      <td>0.000000</td>\n",
       "      <td>0.000000</td>\n",
       "      <td>0.000000</td>\n",
       "      <td>0.000000</td>\n",
       "      <td>0.0</td>\n",
       "      <td>0.000000</td>\n",
       "      <td>0.000000</td>\n",
       "      <td>0.000000</td>\n",
       "      <td>0.000000</td>\n",
       "      <td>0.000000</td>\n",
       "      <td>0.000000</td>\n",
       "      <td>0.000000</td>\n",
       "      <td>0.0</td>\n",
       "      <td>0.000000</td>\n",
       "      <td>0.000000</td>\n",
       "      <td>0.000000</td>\n",
       "      <td>0.000000</td>\n",
       "      <td>0.000000</td>\n",
       "      <td>0.000000</td>\n",
       "      <td>0.000000</td>\n",
       "      <td>0.000000</td>\n",
       "      <td>0.000000</td>\n",
       "      <td>0.000000</td>\n",
       "      <td>0.000000</td>\n",
       "      <td>0.000000</td>\n",
       "      <td>0.000000</td>\n",
       "      <td>0.000000</td>\n",
       "      <td>0.000000</td>\n",
       "      <td>0.000000</td>\n",
       "      <td>0.000000</td>\n",
       "      <td>0.000000</td>\n",
       "      <td>0.000000</td>\n",
       "      <td>0.000000</td>\n",
       "      <td>0.000000</td>\n",
       "      <td>0.000000</td>\n",
       "      <td>0.000000</td>\n",
       "      <td>0.000000</td>\n",
       "      <td>0.000000</td>\n",
       "      <td>1.000000</td>\n",
       "    </tr>\n",
       "    <tr>\n",
       "      <th>25%</th>\n",
       "      <td>3780.75000</td>\n",
       "      <td>2376.000000</td>\n",
       "      <td>65.000000</td>\n",
       "      <td>10.000000</td>\n",
       "      <td>67.000000</td>\n",
       "      <td>5.000000</td>\n",
       "      <td>764.000000</td>\n",
       "      <td>196.000000</td>\n",
       "      <td>207.000000</td>\n",
       "      <td>106.000000</td>\n",
       "      <td>730.000000</td>\n",
       "      <td>0.000000</td>\n",
       "      <td>0.000000</td>\n",
       "      <td>0.000000</td>\n",
       "      <td>0.000000</td>\n",
       "      <td>0.000000</td>\n",
       "      <td>0.000000</td>\n",
       "      <td>0.000000</td>\n",
       "      <td>0.000000</td>\n",
       "      <td>0.000000</td>\n",
       "      <td>0.000000</td>\n",
       "      <td>0.0</td>\n",
       "      <td>0.000000</td>\n",
       "      <td>0.000000</td>\n",
       "      <td>0.000000</td>\n",
       "      <td>0.000000</td>\n",
       "      <td>0.000000</td>\n",
       "      <td>0.000000</td>\n",
       "      <td>0.000000</td>\n",
       "      <td>0.0</td>\n",
       "      <td>0.000000</td>\n",
       "      <td>0.000000</td>\n",
       "      <td>0.000000</td>\n",
       "      <td>0.000000</td>\n",
       "      <td>0.000000</td>\n",
       "      <td>0.000000</td>\n",
       "      <td>0.000000</td>\n",
       "      <td>0.000000</td>\n",
       "      <td>0.000000</td>\n",
       "      <td>0.000000</td>\n",
       "      <td>0.000000</td>\n",
       "      <td>0.000000</td>\n",
       "      <td>0.000000</td>\n",
       "      <td>0.000000</td>\n",
       "      <td>0.000000</td>\n",
       "      <td>0.000000</td>\n",
       "      <td>0.000000</td>\n",
       "      <td>0.000000</td>\n",
       "      <td>0.000000</td>\n",
       "      <td>0.000000</td>\n",
       "      <td>0.000000</td>\n",
       "      <td>0.000000</td>\n",
       "      <td>0.000000</td>\n",
       "      <td>0.000000</td>\n",
       "      <td>0.000000</td>\n",
       "      <td>2.000000</td>\n",
       "    </tr>\n",
       "    <tr>\n",
       "      <th>50%</th>\n",
       "      <td>7560.50000</td>\n",
       "      <td>2752.000000</td>\n",
       "      <td>126.000000</td>\n",
       "      <td>15.000000</td>\n",
       "      <td>180.000000</td>\n",
       "      <td>32.000000</td>\n",
       "      <td>1316.000000</td>\n",
       "      <td>220.000000</td>\n",
       "      <td>223.000000</td>\n",
       "      <td>138.000000</td>\n",
       "      <td>1256.000000</td>\n",
       "      <td>0.000000</td>\n",
       "      <td>0.000000</td>\n",
       "      <td>0.000000</td>\n",
       "      <td>0.000000</td>\n",
       "      <td>0.000000</td>\n",
       "      <td>0.000000</td>\n",
       "      <td>0.000000</td>\n",
       "      <td>0.000000</td>\n",
       "      <td>0.000000</td>\n",
       "      <td>0.000000</td>\n",
       "      <td>0.0</td>\n",
       "      <td>0.000000</td>\n",
       "      <td>0.000000</td>\n",
       "      <td>0.000000</td>\n",
       "      <td>0.000000</td>\n",
       "      <td>0.000000</td>\n",
       "      <td>0.000000</td>\n",
       "      <td>0.000000</td>\n",
       "      <td>0.0</td>\n",
       "      <td>0.000000</td>\n",
       "      <td>0.000000</td>\n",
       "      <td>0.000000</td>\n",
       "      <td>0.000000</td>\n",
       "      <td>0.000000</td>\n",
       "      <td>0.000000</td>\n",
       "      <td>0.000000</td>\n",
       "      <td>0.000000</td>\n",
       "      <td>0.000000</td>\n",
       "      <td>0.000000</td>\n",
       "      <td>0.000000</td>\n",
       "      <td>0.000000</td>\n",
       "      <td>0.000000</td>\n",
       "      <td>0.000000</td>\n",
       "      <td>0.000000</td>\n",
       "      <td>0.000000</td>\n",
       "      <td>0.000000</td>\n",
       "      <td>0.000000</td>\n",
       "      <td>0.000000</td>\n",
       "      <td>0.000000</td>\n",
       "      <td>0.000000</td>\n",
       "      <td>0.000000</td>\n",
       "      <td>0.000000</td>\n",
       "      <td>0.000000</td>\n",
       "      <td>0.000000</td>\n",
       "      <td>4.000000</td>\n",
       "    </tr>\n",
       "    <tr>\n",
       "      <th>75%</th>\n",
       "      <td>11340.25000</td>\n",
       "      <td>3104.000000</td>\n",
       "      <td>261.000000</td>\n",
       "      <td>22.000000</td>\n",
       "      <td>330.000000</td>\n",
       "      <td>79.000000</td>\n",
       "      <td>2270.000000</td>\n",
       "      <td>235.000000</td>\n",
       "      <td>235.000000</td>\n",
       "      <td>167.000000</td>\n",
       "      <td>1988.250000</td>\n",
       "      <td>0.000000</td>\n",
       "      <td>0.000000</td>\n",
       "      <td>1.000000</td>\n",
       "      <td>1.000000</td>\n",
       "      <td>0.000000</td>\n",
       "      <td>0.000000</td>\n",
       "      <td>0.000000</td>\n",
       "      <td>0.000000</td>\n",
       "      <td>0.000000</td>\n",
       "      <td>0.000000</td>\n",
       "      <td>0.0</td>\n",
       "      <td>0.000000</td>\n",
       "      <td>0.000000</td>\n",
       "      <td>0.000000</td>\n",
       "      <td>0.000000</td>\n",
       "      <td>0.000000</td>\n",
       "      <td>0.000000</td>\n",
       "      <td>0.000000</td>\n",
       "      <td>0.0</td>\n",
       "      <td>0.000000</td>\n",
       "      <td>0.000000</td>\n",
       "      <td>0.000000</td>\n",
       "      <td>0.000000</td>\n",
       "      <td>0.000000</td>\n",
       "      <td>0.000000</td>\n",
       "      <td>0.000000</td>\n",
       "      <td>0.000000</td>\n",
       "      <td>0.000000</td>\n",
       "      <td>0.000000</td>\n",
       "      <td>0.000000</td>\n",
       "      <td>0.000000</td>\n",
       "      <td>0.000000</td>\n",
       "      <td>0.000000</td>\n",
       "      <td>0.000000</td>\n",
       "      <td>0.000000</td>\n",
       "      <td>0.000000</td>\n",
       "      <td>0.000000</td>\n",
       "      <td>0.000000</td>\n",
       "      <td>0.000000</td>\n",
       "      <td>0.000000</td>\n",
       "      <td>0.000000</td>\n",
       "      <td>0.000000</td>\n",
       "      <td>0.000000</td>\n",
       "      <td>0.000000</td>\n",
       "      <td>6.000000</td>\n",
       "    </tr>\n",
       "    <tr>\n",
       "      <th>max</th>\n",
       "      <td>15120.00000</td>\n",
       "      <td>3849.000000</td>\n",
       "      <td>360.000000</td>\n",
       "      <td>52.000000</td>\n",
       "      <td>1343.000000</td>\n",
       "      <td>554.000000</td>\n",
       "      <td>6890.000000</td>\n",
       "      <td>254.000000</td>\n",
       "      <td>254.000000</td>\n",
       "      <td>248.000000</td>\n",
       "      <td>6993.000000</td>\n",
       "      <td>1.000000</td>\n",
       "      <td>1.000000</td>\n",
       "      <td>1.000000</td>\n",
       "      <td>1.000000</td>\n",
       "      <td>1.000000</td>\n",
       "      <td>1.000000</td>\n",
       "      <td>1.000000</td>\n",
       "      <td>1.000000</td>\n",
       "      <td>1.000000</td>\n",
       "      <td>1.000000</td>\n",
       "      <td>0.0</td>\n",
       "      <td>1.000000</td>\n",
       "      <td>1.000000</td>\n",
       "      <td>1.000000</td>\n",
       "      <td>1.000000</td>\n",
       "      <td>1.000000</td>\n",
       "      <td>1.000000</td>\n",
       "      <td>1.000000</td>\n",
       "      <td>0.0</td>\n",
       "      <td>1.000000</td>\n",
       "      <td>1.000000</td>\n",
       "      <td>1.000000</td>\n",
       "      <td>1.000000</td>\n",
       "      <td>1.000000</td>\n",
       "      <td>1.000000</td>\n",
       "      <td>1.000000</td>\n",
       "      <td>1.000000</td>\n",
       "      <td>1.000000</td>\n",
       "      <td>1.000000</td>\n",
       "      <td>1.000000</td>\n",
       "      <td>1.000000</td>\n",
       "      <td>1.000000</td>\n",
       "      <td>1.000000</td>\n",
       "      <td>1.000000</td>\n",
       "      <td>1.000000</td>\n",
       "      <td>1.000000</td>\n",
       "      <td>1.000000</td>\n",
       "      <td>1.000000</td>\n",
       "      <td>1.000000</td>\n",
       "      <td>1.000000</td>\n",
       "      <td>1.000000</td>\n",
       "      <td>1.000000</td>\n",
       "      <td>1.000000</td>\n",
       "      <td>1.000000</td>\n",
       "      <td>7.000000</td>\n",
       "    </tr>\n",
       "  </tbody>\n",
       "</table>\n",
       "</div>"
      ],
      "text/plain": [
       "                Id     Elevation        Aspect         Slope  \\\n",
       "count  15120.00000  15120.000000  15120.000000  15120.000000   \n",
       "mean    7560.50000   2749.322553    156.676653     16.501587   \n",
       "std     4364.91237    417.678187    110.085801      8.453927   \n",
       "min        1.00000   1863.000000      0.000000      0.000000   \n",
       "25%     3780.75000   2376.000000     65.000000     10.000000   \n",
       "50%     7560.50000   2752.000000    126.000000     15.000000   \n",
       "75%    11340.25000   3104.000000    261.000000     22.000000   \n",
       "max    15120.00000   3849.000000    360.000000     52.000000   \n",
       "\n",
       "       Horizontal_Distance_To_Hydrology  Vertical_Distance_To_Hydrology  \\\n",
       "count                      15120.000000                    15120.000000   \n",
       "mean                         227.195701                       51.076521   \n",
       "std                          210.075296                       61.239406   \n",
       "min                            0.000000                     -146.000000   \n",
       "25%                           67.000000                        5.000000   \n",
       "50%                          180.000000                       32.000000   \n",
       "75%                          330.000000                       79.000000   \n",
       "max                         1343.000000                      554.000000   \n",
       "\n",
       "       Horizontal_Distance_To_Roadways  Hillshade_9am  Hillshade_Noon  \\\n",
       "count                     15120.000000   15120.000000    15120.000000   \n",
       "mean                       1714.023214     212.704299      218.965608   \n",
       "std                        1325.066358      30.561287       22.801966   \n",
       "min                           0.000000       0.000000       99.000000   \n",
       "25%                         764.000000     196.000000      207.000000   \n",
       "50%                        1316.000000     220.000000      223.000000   \n",
       "75%                        2270.000000     235.000000      235.000000   \n",
       "max                        6890.000000     254.000000      254.000000   \n",
       "\n",
       "       Hillshade_3pm  Horizontal_Distance_To_Fire_Points  Wilderness_Area1  \\\n",
       "count   15120.000000                        15120.000000      15120.000000   \n",
       "mean      135.091997                         1511.147288          0.237897   \n",
       "std        45.895189                         1099.936493          0.425810   \n",
       "min         0.000000                            0.000000          0.000000   \n",
       "25%       106.000000                          730.000000          0.000000   \n",
       "50%       138.000000                         1256.000000          0.000000   \n",
       "75%       167.000000                         1988.250000          0.000000   \n",
       "max       248.000000                         6993.000000          1.000000   \n",
       "\n",
       "       Wilderness_Area2  Wilderness_Area3  Wilderness_Area4    Soil_Type1  \\\n",
       "count      15120.000000      15120.000000      15120.000000  15120.000000   \n",
       "mean           0.033003          0.419907          0.309193      0.023479   \n",
       "std            0.178649          0.493560          0.462176      0.151424   \n",
       "min            0.000000          0.000000          0.000000      0.000000   \n",
       "25%            0.000000          0.000000          0.000000      0.000000   \n",
       "50%            0.000000          0.000000          0.000000      0.000000   \n",
       "75%            0.000000          1.000000          1.000000      0.000000   \n",
       "max            1.000000          1.000000          1.000000      1.000000   \n",
       "\n",
       "         Soil_Type2    Soil_Type3    Soil_Type4    Soil_Type5    Soil_Type6  \\\n",
       "count  15120.000000  15120.000000  15120.000000  15120.000000  15120.000000   \n",
       "mean       0.041204      0.063624      0.055754      0.010913      0.042989   \n",
       "std        0.198768      0.244091      0.229454      0.103896      0.202840   \n",
       "min        0.000000      0.000000      0.000000      0.000000      0.000000   \n",
       "25%        0.000000      0.000000      0.000000      0.000000      0.000000   \n",
       "50%        0.000000      0.000000      0.000000      0.000000      0.000000   \n",
       "75%        0.000000      0.000000      0.000000      0.000000      0.000000   \n",
       "max        1.000000      1.000000      1.000000      1.000000      1.000000   \n",
       "\n",
       "       Soil_Type7    Soil_Type8    Soil_Type9   Soil_Type10   Soil_Type11  \\\n",
       "count     15120.0  15120.000000  15120.000000  15120.000000  15120.000000   \n",
       "mean          0.0      0.000066      0.000661      0.141667      0.026852   \n",
       "std           0.0      0.008133      0.025710      0.348719      0.161656   \n",
       "min           0.0      0.000000      0.000000      0.000000      0.000000   \n",
       "25%           0.0      0.000000      0.000000      0.000000      0.000000   \n",
       "50%           0.0      0.000000      0.000000      0.000000      0.000000   \n",
       "75%           0.0      0.000000      0.000000      0.000000      0.000000   \n",
       "max           0.0      1.000000      1.000000      1.000000      1.000000   \n",
       "\n",
       "        Soil_Type12   Soil_Type13   Soil_Type14  Soil_Type15   Soil_Type16  \\\n",
       "count  15120.000000  15120.000000  15120.000000      15120.0  15120.000000   \n",
       "mean       0.015013      0.031481      0.011177          0.0      0.007540   \n",
       "std        0.121609      0.174621      0.105133          0.0      0.086506   \n",
       "min        0.000000      0.000000      0.000000          0.0      0.000000   \n",
       "25%        0.000000      0.000000      0.000000          0.0      0.000000   \n",
       "50%        0.000000      0.000000      0.000000          0.0      0.000000   \n",
       "75%        0.000000      0.000000      0.000000          0.0      0.000000   \n",
       "max        1.000000      1.000000      1.000000          0.0      1.000000   \n",
       "\n",
       "        Soil_Type17   Soil_Type18   Soil_Type19   Soil_Type20   Soil_Type21  \\\n",
       "count  15120.000000  15120.000000  15120.000000  15120.000000  15120.000000   \n",
       "mean       0.040476      0.003968      0.003042      0.009193      0.001058   \n",
       "std        0.197080      0.062871      0.055075      0.095442      0.032514   \n",
       "min        0.000000      0.000000      0.000000      0.000000      0.000000   \n",
       "25%        0.000000      0.000000      0.000000      0.000000      0.000000   \n",
       "50%        0.000000      0.000000      0.000000      0.000000      0.000000   \n",
       "75%        0.000000      0.000000      0.000000      0.000000      0.000000   \n",
       "max        1.000000      1.000000      1.000000      1.000000      1.000000   \n",
       "\n",
       "        Soil_Type22   Soil_Type23   Soil_Type24   Soil_Type25   Soil_Type26  \\\n",
       "count  15120.000000  15120.000000  15120.000000  15120.000000  15120.000000   \n",
       "mean       0.022817      0.050066      0.016997      0.000066      0.003571   \n",
       "std        0.149326      0.218089      0.129265      0.008133      0.059657   \n",
       "min        0.000000      0.000000      0.000000      0.000000      0.000000   \n",
       "25%        0.000000      0.000000      0.000000      0.000000      0.000000   \n",
       "50%        0.000000      0.000000      0.000000      0.000000      0.000000   \n",
       "75%        0.000000      0.000000      0.000000      0.000000      0.000000   \n",
       "max        1.000000      1.000000      1.000000      1.000000      1.000000   \n",
       "\n",
       "        Soil_Type27   Soil_Type28   Soil_Type29   Soil_Type30   Soil_Type31  \\\n",
       "count  15120.000000  15120.000000  15120.000000  15120.000000  15120.000000   \n",
       "mean       0.000992      0.000595      0.085384      0.047950      0.021958   \n",
       "std        0.031482      0.024391      0.279461      0.213667      0.146550   \n",
       "min        0.000000      0.000000      0.000000      0.000000      0.000000   \n",
       "25%        0.000000      0.000000      0.000000      0.000000      0.000000   \n",
       "50%        0.000000      0.000000      0.000000      0.000000      0.000000   \n",
       "75%        0.000000      0.000000      0.000000      0.000000      0.000000   \n",
       "max        1.000000      1.000000      1.000000      1.000000      1.000000   \n",
       "\n",
       "        Soil_Type32   Soil_Type33   Soil_Type34   Soil_Type35   Soil_Type36  \\\n",
       "count  15120.000000  15120.000000  15120.000000  15120.000000  15120.000000   \n",
       "mean       0.045635      0.040741      0.001455      0.006746      0.000661   \n",
       "std        0.208699      0.197696      0.038118      0.081859      0.025710   \n",
       "min        0.000000      0.000000      0.000000      0.000000      0.000000   \n",
       "25%        0.000000      0.000000      0.000000      0.000000      0.000000   \n",
       "50%        0.000000      0.000000      0.000000      0.000000      0.000000   \n",
       "75%        0.000000      0.000000      0.000000      0.000000      0.000000   \n",
       "max        1.000000      1.000000      1.000000      1.000000      1.000000   \n",
       "\n",
       "        Soil_Type37   Soil_Type38   Soil_Type39   Soil_Type40    Cover_Type  \n",
       "count  15120.000000  15120.000000  15120.000000  15120.000000  15120.000000  \n",
       "mean       0.002249      0.048148      0.043452      0.030357      4.000000  \n",
       "std        0.047368      0.214086      0.203880      0.171574      2.000066  \n",
       "min        0.000000      0.000000      0.000000      0.000000      1.000000  \n",
       "25%        0.000000      0.000000      0.000000      0.000000      2.000000  \n",
       "50%        0.000000      0.000000      0.000000      0.000000      4.000000  \n",
       "75%        0.000000      0.000000      0.000000      0.000000      6.000000  \n",
       "max        1.000000      1.000000      1.000000      1.000000      7.000000  "
      ]
     },
     "execution_count": 7,
     "metadata": {},
     "output_type": "execute_result"
    }
   ],
   "source": [
    "pd.set_option('display.max_columns', None)\n",
    "df_train.describe()"
   ]
  },
  {
   "cell_type": "code",
   "execution_count": 8,
   "metadata": {},
   "outputs": [
    {
     "data": {
      "text/plain": [
       "Id                                    0\n",
       "Elevation                             0\n",
       "Aspect                                0\n",
       "Slope                                 0\n",
       "Horizontal_Distance_To_Hydrology      0\n",
       "Vertical_Distance_To_Hydrology        0\n",
       "Horizontal_Distance_To_Roadways       0\n",
       "Hillshade_9am                         0\n",
       "Hillshade_Noon                        0\n",
       "Hillshade_3pm                         0\n",
       "Horizontal_Distance_To_Fire_Points    0\n",
       "Wilderness_Area1                      0\n",
       "Wilderness_Area2                      0\n",
       "Wilderness_Area3                      0\n",
       "Wilderness_Area4                      0\n",
       "Soil_Type1                            0\n",
       "Soil_Type2                            0\n",
       "Soil_Type3                            0\n",
       "Soil_Type4                            0\n",
       "Soil_Type5                            0\n",
       "Soil_Type6                            0\n",
       "Soil_Type7                            0\n",
       "Soil_Type8                            0\n",
       "Soil_Type9                            0\n",
       "Soil_Type10                           0\n",
       "Soil_Type11                           0\n",
       "Soil_Type12                           0\n",
       "Soil_Type13                           0\n",
       "Soil_Type14                           0\n",
       "Soil_Type15                           0\n",
       "Soil_Type16                           0\n",
       "Soil_Type17                           0\n",
       "Soil_Type18                           0\n",
       "Soil_Type19                           0\n",
       "Soil_Type20                           0\n",
       "Soil_Type21                           0\n",
       "Soil_Type22                           0\n",
       "Soil_Type23                           0\n",
       "Soil_Type24                           0\n",
       "Soil_Type25                           0\n",
       "Soil_Type26                           0\n",
       "Soil_Type27                           0\n",
       "Soil_Type28                           0\n",
       "Soil_Type29                           0\n",
       "Soil_Type30                           0\n",
       "Soil_Type31                           0\n",
       "Soil_Type32                           0\n",
       "Soil_Type33                           0\n",
       "Soil_Type34                           0\n",
       "Soil_Type35                           0\n",
       "Soil_Type36                           0\n",
       "Soil_Type37                           0\n",
       "Soil_Type38                           0\n",
       "Soil_Type39                           0\n",
       "Soil_Type40                           0\n",
       "Cover_Type                            0\n",
       "dtype: int64"
      ]
     },
     "execution_count": 8,
     "metadata": {},
     "output_type": "execute_result"
    }
   ],
   "source": [
    "df_train.apply(lambda x: sum(x.isnull()),axis=0)"
   ]
  },
  {
   "cell_type": "code",
   "execution_count": 9,
   "metadata": {},
   "outputs": [
    {
     "name": "stdout",
     "output_type": "stream",
     "text": [
      "<class 'pandas.core.frame.DataFrame'>\n",
      "RangeIndex: 15120 entries, 0 to 15119\n",
      "Data columns (total 56 columns):\n",
      "Id                                    15120 non-null int64\n",
      "Elevation                             15120 non-null int64\n",
      "Aspect                                15120 non-null int64\n",
      "Slope                                 15120 non-null int64\n",
      "Horizontal_Distance_To_Hydrology      15120 non-null int64\n",
      "Vertical_Distance_To_Hydrology        15120 non-null int64\n",
      "Horizontal_Distance_To_Roadways       15120 non-null int64\n",
      "Hillshade_9am                         15120 non-null int64\n",
      "Hillshade_Noon                        15120 non-null int64\n",
      "Hillshade_3pm                         15120 non-null int64\n",
      "Horizontal_Distance_To_Fire_Points    15120 non-null int64\n",
      "Wilderness_Area1                      15120 non-null int64\n",
      "Wilderness_Area2                      15120 non-null int64\n",
      "Wilderness_Area3                      15120 non-null int64\n",
      "Wilderness_Area4                      15120 non-null int64\n",
      "Soil_Type1                            15120 non-null int64\n",
      "Soil_Type2                            15120 non-null int64\n",
      "Soil_Type3                            15120 non-null int64\n",
      "Soil_Type4                            15120 non-null int64\n",
      "Soil_Type5                            15120 non-null int64\n",
      "Soil_Type6                            15120 non-null int64\n",
      "Soil_Type7                            15120 non-null int64\n",
      "Soil_Type8                            15120 non-null int64\n",
      "Soil_Type9                            15120 non-null int64\n",
      "Soil_Type10                           15120 non-null int64\n",
      "Soil_Type11                           15120 non-null int64\n",
      "Soil_Type12                           15120 non-null int64\n",
      "Soil_Type13                           15120 non-null int64\n",
      "Soil_Type14                           15120 non-null int64\n",
      "Soil_Type15                           15120 non-null int64\n",
      "Soil_Type16                           15120 non-null int64\n",
      "Soil_Type17                           15120 non-null int64\n",
      "Soil_Type18                           15120 non-null int64\n",
      "Soil_Type19                           15120 non-null int64\n",
      "Soil_Type20                           15120 non-null int64\n",
      "Soil_Type21                           15120 non-null int64\n",
      "Soil_Type22                           15120 non-null int64\n",
      "Soil_Type23                           15120 non-null int64\n",
      "Soil_Type24                           15120 non-null int64\n",
      "Soil_Type25                           15120 non-null int64\n",
      "Soil_Type26                           15120 non-null int64\n",
      "Soil_Type27                           15120 non-null int64\n",
      "Soil_Type28                           15120 non-null int64\n",
      "Soil_Type29                           15120 non-null int64\n",
      "Soil_Type30                           15120 non-null int64\n",
      "Soil_Type31                           15120 non-null int64\n",
      "Soil_Type32                           15120 non-null int64\n",
      "Soil_Type33                           15120 non-null int64\n",
      "Soil_Type34                           15120 non-null int64\n",
      "Soil_Type35                           15120 non-null int64\n",
      "Soil_Type36                           15120 non-null int64\n",
      "Soil_Type37                           15120 non-null int64\n",
      "Soil_Type38                           15120 non-null int64\n",
      "Soil_Type39                           15120 non-null int64\n",
      "Soil_Type40                           15120 non-null int64\n",
      "Cover_Type                            15120 non-null int64\n",
      "dtypes: int64(56)\n",
      "memory usage: 6.5 MB\n"
     ]
    }
   ],
   "source": [
    "df_train.info()"
   ]
  },
  {
   "cell_type": "code",
   "execution_count": 10,
   "metadata": {},
   "outputs": [
    {
     "data": {
      "text/plain": [
       "Id                                        0\n",
       "Elevation                                 0\n",
       "Aspect                                  110\n",
       "Slope                                     5\n",
       "Horizontal_Distance_To_Hydrology       1590\n",
       "Vertical_Distance_To_Hydrology         1890\n",
       "Horizontal_Distance_To_Roadways           3\n",
       "Hillshade_9am                             1\n",
       "Hillshade_Noon                            0\n",
       "Hillshade_3pm                            88\n",
       "Horizontal_Distance_To_Fire_Points        2\n",
       "Wilderness_Area1                      11523\n",
       "Wilderness_Area2                      14621\n",
       "Wilderness_Area3                       8771\n",
       "Wilderness_Area4                      10445\n",
       "Soil_Type1                            14765\n",
       "Soil_Type2                            14497\n",
       "Soil_Type3                            14158\n",
       "Soil_Type4                            14277\n",
       "Soil_Type5                            14955\n",
       "Soil_Type6                            14470\n",
       "Soil_Type7                            15120\n",
       "Soil_Type8                            15119\n",
       "Soil_Type9                            15110\n",
       "Soil_Type10                           12978\n",
       "Soil_Type11                           14714\n",
       "Soil_Type12                           14893\n",
       "Soil_Type13                           14644\n",
       "Soil_Type14                           14951\n",
       "Soil_Type15                           15120\n",
       "Soil_Type16                           15006\n",
       "Soil_Type17                           14508\n",
       "Soil_Type18                           15060\n",
       "Soil_Type19                           15074\n",
       "Soil_Type20                           14981\n",
       "Soil_Type21                           15104\n",
       "Soil_Type22                           14775\n",
       "Soil_Type23                           14363\n",
       "Soil_Type24                           14863\n",
       "Soil_Type25                           15119\n",
       "Soil_Type26                           15066\n",
       "Soil_Type27                           15105\n",
       "Soil_Type28                           15111\n",
       "Soil_Type29                           13829\n",
       "Soil_Type30                           14395\n",
       "Soil_Type31                           14788\n",
       "Soil_Type32                           14430\n",
       "Soil_Type33                           14504\n",
       "Soil_Type34                           15098\n",
       "Soil_Type35                           15018\n",
       "Soil_Type36                           15110\n",
       "Soil_Type37                           15086\n",
       "Soil_Type38                           14392\n",
       "Soil_Type39                           14463\n",
       "Soil_Type40                           14661\n",
       "Cover_Type                                0\n",
       "dtype: int64"
      ]
     },
     "execution_count": 10,
     "metadata": {},
     "output_type": "execute_result"
    }
   ],
   "source": [
    "df_train.apply(lambda x : sum(x == 0),axis=0)"
   ]
  },
  {
   "cell_type": "markdown",
   "metadata": {},
   "source": [
    "# Data Analysis\n",
    "\n",
    "There are total of 54 columns in the dataset. There are not NULL or unknown values in the data set. He have many columns that belong to data formats of Binary and Distance which can have value 0. The major concern is the column Hillshade_3pm which has around 88 values marked as 0, which needs to be taken care of.\n",
    "\n",
    "Here we are imputing the 0 values by best fits using Random Forest Regressor."
   ]
  },
  {
   "cell_type": "code",
   "execution_count": 11,
   "metadata": {},
   "outputs": [],
   "source": [
    "def preprocess(dataframe):\n",
    "  \n",
    "  data = dataframe\n",
    "  columns= [col for col in data.columns if col  not in ['Hillshade_3pm', 'Id']]\n",
    "  X_train = data[columns][data.Hillshade_3pm!=0]\n",
    "  y_train=data['Hillshade_3pm'][data.Hillshade_3pm!=0]\n",
    "  X_test=data[columns][data.Hillshade_3pm==0]\n",
    "  from sklearn.ensemble import RandomForestRegressor \n",
    "\n",
    "  rfg = RandomForestRegressor()\n",
    "  rfg.fit(X_train, y_train)\n",
    "  data.Hillshade_3pm.loc[data.Hillshade_3pm==0]=np.around(rfg.predict(X_test))\n",
    "  return data "
   ]
  },
  {
   "cell_type": "code",
   "execution_count": 12,
   "metadata": {},
   "outputs": [
    {
     "name": "stderr",
     "output_type": "stream",
     "text": [
      "/home/krunal/anaconda3/lib/python3.7/site-packages/sklearn/ensemble/forest.py:246: FutureWarning: The default value of n_estimators will change from 10 in version 0.20 to 100 in 0.22.\n",
      "  \"10 in version 0.20 to 100 in 0.22.\", FutureWarning)\n",
      "/home/krunal/anaconda3/lib/python3.7/site-packages/sklearn/ensemble/forest.py:246: FutureWarning: The default value of n_estimators will change from 10 in version 0.20 to 100 in 0.22.\n",
      "  \"10 in version 0.20 to 100 in 0.22.\", FutureWarning)\n"
     ]
    }
   ],
   "source": [
    "df_train = preprocess(df_train)\n",
    "df_test = preprocess(df_test)"
   ]
  },
  {
   "cell_type": "markdown",
   "metadata": {},
   "source": [
    "# Feature Engineering\n",
    "\n",
    "The data set holds vertical and horizontal distance of the forest cells from nearest roadway and water features. Hence, calculating the direct distance to the roadway and water features using Euclidean distance\n",
    "\n",
    "Summing up the raw value of different soil and wilderness area as specificed in the Competition description.\n",
    "\n",
    "Generating new columns to measure the distance between the nearest roadway and water features for the particular cell."
   ]
  },
  {
   "cell_type": "code",
   "execution_count": 13,
   "metadata": {},
   "outputs": [],
   "source": [
    "def feature_engineering(data2):\n",
    "    \n",
    "    \n",
    "    data = data2\n",
    "    \n",
    "    data['Ele_minus_VDtHyd'] = data.Elevation-data.Vertical_Distance_To_Hydrology\n",
    "         \n",
    "    data['Ele_plus_VDtHyd'] = data.Elevation+data.Vertical_Distance_To_Hydrology\n",
    "     \n",
    "    data['Distanse_to_Hydrolody'] = (data['Horizontal_Distance_To_Hydrology']**2+data['Vertical_Distance_To_Hydrology']**2)**0.5\n",
    "     \n",
    "    data['Hydro_plus_Fire'] = data['Horizontal_Distance_To_Hydrology']+data['Horizontal_Distance_To_Fire_Points']\n",
    "     \n",
    "    data['Hydro_minus_Fire'] = data['Horizontal_Distance_To_Hydrology']-data['Horizontal_Distance_To_Fire_Points']\n",
    "     \n",
    "    data['Hydro_plus_Road'] = data['Horizontal_Distance_To_Hydrology']+data['Horizontal_Distance_To_Roadways']\n",
    "     \n",
    "    data['Hydro_minus_Road'] = data['Horizontal_Distance_To_Hydrology']-data['Horizontal_Distance_To_Roadways']\n",
    "     \n",
    "    data['Fire_plus_Road'] = data['Horizontal_Distance_To_Fire_Points']+data['Horizontal_Distance_To_Roadways']\n",
    "     \n",
    "    data['Fire_minus_Road'] = data['Horizontal_Distance_To_Fire_Points']-data['Horizontal_Distance_To_Roadways']\n",
    "    \n",
    "    data['Soil']=0\n",
    "    for i in range(1,41):\n",
    "      data['Soil']=data['Soil']+i*data['Soil_Type'+str(i)]\n",
    "      \n",
    "     \n",
    "    data['Wilderness_Area']=0\n",
    "    for i in range(1,5):\n",
    "      data['Wilderness_Area']=data['Wilderness_Area']+i*data['Wilderness_Area'+str(i)]\n",
    "      \n",
    "    return data\n",
    "  "
   ]
  },
  {
   "cell_type": "code",
   "execution_count": 14,
   "metadata": {
    "scrolled": true
   },
   "outputs": [
    {
     "name": "stdout",
     "output_type": "stream",
     "text": [
      "Index(['Elevation', 'Aspect', 'Slope', 'Horizontal_Distance_To_Hydrology',\n",
      "       'Vertical_Distance_To_Hydrology', 'Horizontal_Distance_To_Roadways',\n",
      "       'Hillshade_9am', 'Hillshade_Noon', 'Hillshade_3pm',\n",
      "       'Horizontal_Distance_To_Fire_Points', 'Ele_minus_VDtHyd',\n",
      "       'Ele_plus_VDtHyd', 'Distanse_to_Hydrolody', 'Hydro_plus_Fire',\n",
      "       'Hydro_minus_Fire', 'Hydro_plus_Road', 'Hydro_minus_Road',\n",
      "       'Fire_plus_Road', 'Fire_minus_Road', 'Soil', 'Wilderness_Area',\n",
      "       'Cover_Type'],\n",
      "      dtype='object')\n"
     ]
    }
   ],
   "source": [
    "df_train = feature_engineering(df_train)\n",
    "df_test = feature_engineering(df_test)\n",
    "\n",
    "features =  ['Elevation','Aspect','Slope','Horizontal_Distance_To_Hydrology','Vertical_Distance_To_Hydrology',\n",
    "    'Horizontal_Distance_To_Roadways','Hillshade_9am','Hillshade_Noon','Hillshade_3pm','Horizontal_Distance_To_Fire_Points',\n",
    "    'Ele_minus_VDtHyd','Ele_plus_VDtHyd','Distanse_to_Hydrolody','Hydro_plus_Fire','Hydro_minus_Fire','Hydro_plus_Road',\n",
    "    'Hydro_minus_Road','Fire_plus_Road','Fire_minus_Road','Soil','Wilderness_Area','Cover_Type']\n",
    "df_train = df_train[features]\n",
    "\n",
    "print(df_train.columns)"
   ]
  },
  {
   "cell_type": "code",
   "execution_count": 15,
   "metadata": {},
   "outputs": [],
   "source": [
    "y=\"Cover_Type\""
   ]
  },
  {
   "cell_type": "code",
   "execution_count": 16,
   "metadata": {},
   "outputs": [],
   "source": [
    "x=features.remove(y)\n",
    "x"
   ]
  },
  {
   "cell_type": "markdown",
   "metadata": {},
   "source": [
    "# Initializing H2O"
   ]
  },
  {
   "cell_type": "code",
   "execution_count": 17,
   "metadata": {},
   "outputs": [
    {
     "name": "stdout",
     "output_type": "stream",
     "text": [
      "Checking whether there is an H2O instance running at http://localhost:54321..... not found.\n",
      "Attempting to start a local H2O server...\n",
      "  Java Version: openjdk version \"10.0.2\" 2018-07-17; OpenJDK Runtime Environment (build 10.0.2+13-Ubuntu-1ubuntu0.18.04.4); OpenJDK 64-Bit Server VM (build 10.0.2+13-Ubuntu-1ubuntu0.18.04.4, mixed mode)\n",
      "  Starting server from /home/krunal/anaconda3/lib/python3.7/site-packages/h2o/backend/bin/h2o.jar\n",
      "  Ice root: /tmp/tmpa5mm0zrd\n",
      "  JVM stdout: /tmp/tmpa5mm0zrd/h2o_krunal_started_from_python.out\n",
      "  JVM stderr: /tmp/tmpa5mm0zrd/h2o_krunal_started_from_python.err\n",
      "  Server is running at http://127.0.0.1:54321\n",
      "Connecting to H2O server at http://127.0.0.1:54321... successful.\n"
     ]
    },
    {
     "data": {
      "text/html": [
       "<div style=\"overflow:auto\"><table style=\"width:50%\"><tr><td>H2O cluster uptime:</td>\n",
       "<td>01 secs</td></tr>\n",
       "<tr><td>H2O cluster timezone:</td>\n",
       "<td>America/New_York</td></tr>\n",
       "<tr><td>H2O data parsing timezone:</td>\n",
       "<td>UTC</td></tr>\n",
       "<tr><td>H2O cluster version:</td>\n",
       "<td>3.22.1.4</td></tr>\n",
       "<tr><td>H2O cluster version age:</td>\n",
       "<td>13 days </td></tr>\n",
       "<tr><td>H2O cluster name:</td>\n",
       "<td>H2O_from_python_krunal_r3k3dm</td></tr>\n",
       "<tr><td>H2O cluster total nodes:</td>\n",
       "<td>1</td></tr>\n",
       "<tr><td>H2O cluster free memory:</td>\n",
       "<td>3.854 Gb</td></tr>\n",
       "<tr><td>H2O cluster total cores:</td>\n",
       "<td>8</td></tr>\n",
       "<tr><td>H2O cluster allowed cores:</td>\n",
       "<td>8</td></tr>\n",
       "<tr><td>H2O cluster status:</td>\n",
       "<td>accepting new members, healthy</td></tr>\n",
       "<tr><td>H2O connection url:</td>\n",
       "<td>http://127.0.0.1:54321</td></tr>\n",
       "<tr><td>H2O connection proxy:</td>\n",
       "<td>None</td></tr>\n",
       "<tr><td>H2O internal security:</td>\n",
       "<td>False</td></tr>\n",
       "<tr><td>H2O API Extensions:</td>\n",
       "<td>Amazon S3, XGBoost, Algos, AutoML, Core V3, Core V4</td></tr>\n",
       "<tr><td>Python version:</td>\n",
       "<td>3.7.1 final</td></tr></table></div>"
      ],
      "text/plain": [
       "--------------------------  ---------------------------------------------------\n",
       "H2O cluster uptime:         01 secs\n",
       "H2O cluster timezone:       America/New_York\n",
       "H2O data parsing timezone:  UTC\n",
       "H2O cluster version:        3.22.1.4\n",
       "H2O cluster version age:    13 days\n",
       "H2O cluster name:           H2O_from_python_krunal_r3k3dm\n",
       "H2O cluster total nodes:    1\n",
       "H2O cluster free memory:    3.854 Gb\n",
       "H2O cluster total cores:    8\n",
       "H2O cluster allowed cores:  8\n",
       "H2O cluster status:         accepting new members, healthy\n",
       "H2O connection url:         http://127.0.0.1:54321\n",
       "H2O connection proxy:\n",
       "H2O internal security:      False\n",
       "H2O API Extensions:         Amazon S3, XGBoost, Algos, AutoML, Core V3, Core V4\n",
       "Python version:             3.7.1 final\n",
       "--------------------------  ---------------------------------------------------"
      ]
     },
     "metadata": {},
     "output_type": "display_data"
    }
   ],
   "source": [
    "h2o.init()"
   ]
  },
  {
   "cell_type": "code",
   "execution_count": 18,
   "metadata": {},
   "outputs": [
    {
     "data": {
      "text/html": [
       "<div style=\"overflow:auto\"><table style=\"width:50%\"><tr><td>H2O cluster uptime:</td>\n",
       "<td>01 secs</td></tr>\n",
       "<tr><td>H2O cluster timezone:</td>\n",
       "<td>America/New_York</td></tr>\n",
       "<tr><td>H2O data parsing timezone:</td>\n",
       "<td>UTC</td></tr>\n",
       "<tr><td>H2O cluster version:</td>\n",
       "<td>3.22.1.4</td></tr>\n",
       "<tr><td>H2O cluster version age:</td>\n",
       "<td>13 days </td></tr>\n",
       "<tr><td>H2O cluster name:</td>\n",
       "<td>H2O_from_python_krunal_r3k3dm</td></tr>\n",
       "<tr><td>H2O cluster total nodes:</td>\n",
       "<td>1</td></tr>\n",
       "<tr><td>H2O cluster free memory:</td>\n",
       "<td>3.854 Gb</td></tr>\n",
       "<tr><td>H2O cluster total cores:</td>\n",
       "<td>8</td></tr>\n",
       "<tr><td>H2O cluster allowed cores:</td>\n",
       "<td>8</td></tr>\n",
       "<tr><td>H2O cluster status:</td>\n",
       "<td>accepting new members, healthy</td></tr>\n",
       "<tr><td>H2O connection url:</td>\n",
       "<td>http://127.0.0.1:54321</td></tr>\n",
       "<tr><td>H2O connection proxy:</td>\n",
       "<td>None</td></tr>\n",
       "<tr><td>H2O internal security:</td>\n",
       "<td>False</td></tr>\n",
       "<tr><td>H2O API Extensions:</td>\n",
       "<td>Amazon S3, XGBoost, Algos, AutoML, Core V3, Core V4</td></tr>\n",
       "<tr><td>Python version:</td>\n",
       "<td>3.7.1 final</td></tr></table></div>"
      ],
      "text/plain": [
       "--------------------------  ---------------------------------------------------\n",
       "H2O cluster uptime:         01 secs\n",
       "H2O cluster timezone:       America/New_York\n",
       "H2O data parsing timezone:  UTC\n",
       "H2O cluster version:        3.22.1.4\n",
       "H2O cluster version age:    13 days\n",
       "H2O cluster name:           H2O_from_python_krunal_r3k3dm\n",
       "H2O cluster total nodes:    1\n",
       "H2O cluster free memory:    3.854 Gb\n",
       "H2O cluster total cores:    8\n",
       "H2O cluster allowed cores:  8\n",
       "H2O cluster status:         accepting new members, healthy\n",
       "H2O connection url:         http://127.0.0.1:54321\n",
       "H2O connection proxy:\n",
       "H2O internal security:      False\n",
       "H2O API Extensions:         Amazon S3, XGBoost, Algos, AutoML, Core V3, Core V4\n",
       "Python version:             3.7.1 final\n",
       "--------------------------  ---------------------------------------------------"
      ]
     },
     "metadata": {},
     "output_type": "display_data"
    }
   ],
   "source": [
    "h2o.cluster().show_status()"
   ]
  },
  {
   "cell_type": "markdown",
   "metadata": {},
   "source": [
    "## Converting Pandas Dataframe to H2OFrame"
   ]
  },
  {
   "cell_type": "code",
   "execution_count": 24,
   "metadata": {},
   "outputs": [
    {
     "name": "stdout",
     "output_type": "stream",
     "text": [
      "Parse progress: |█████████████████████████████████████████████████████████| 100%\n"
     ]
    }
   ],
   "source": [
    "hf = h2o.H2OFrame(df_train)"
   ]
  },
  {
   "cell_type": "code",
   "execution_count": 25,
   "metadata": {},
   "outputs": [
    {
     "data": {
      "text/html": [
       "<table>\n",
       "<thead>\n",
       "<tr><th style=\"text-align: right;\">  Elevation</th><th style=\"text-align: right;\">  Aspect</th><th style=\"text-align: right;\">  Slope</th><th style=\"text-align: right;\">  Horizontal_Distance_To_Hydrology</th><th style=\"text-align: right;\">  Vertical_Distance_To_Hydrology</th><th style=\"text-align: right;\">  Horizontal_Distance_To_Roadways</th><th style=\"text-align: right;\">  Hillshade_9am</th><th style=\"text-align: right;\">  Hillshade_Noon</th><th style=\"text-align: right;\">  Hillshade_3pm</th><th style=\"text-align: right;\">  Horizontal_Distance_To_Fire_Points</th><th style=\"text-align: right;\">  Ele_minus_VDtHyd</th><th style=\"text-align: right;\">  Ele_plus_VDtHyd</th><th style=\"text-align: right;\">  Distanse_to_Hydrolody</th><th style=\"text-align: right;\">  Hydro_plus_Fire</th><th style=\"text-align: right;\">  Hydro_minus_Fire</th><th style=\"text-align: right;\">  Hydro_plus_Road</th><th style=\"text-align: right;\">  Hydro_minus_Road</th><th style=\"text-align: right;\">  Fire_plus_Road</th><th style=\"text-align: right;\">  Fire_minus_Road</th><th style=\"text-align: right;\">  Soil</th><th style=\"text-align: right;\">  Wilderness_Area</th><th style=\"text-align: right;\">  Cover_Type</th></tr>\n",
       "</thead>\n",
       "<tbody>\n",
       "<tr><td style=\"text-align: right;\">       2596</td><td style=\"text-align: right;\">      51</td><td style=\"text-align: right;\">      3</td><td style=\"text-align: right;\">                               258</td><td style=\"text-align: right;\">                               0</td><td style=\"text-align: right;\">                              510</td><td style=\"text-align: right;\">            221</td><td style=\"text-align: right;\">             232</td><td style=\"text-align: right;\">            148</td><td style=\"text-align: right;\">                                6279</td><td style=\"text-align: right;\">              2596</td><td style=\"text-align: right;\">             2596</td><td style=\"text-align: right;\">                258    </td><td style=\"text-align: right;\">             6537</td><td style=\"text-align: right;\">             -6021</td><td style=\"text-align: right;\">              768</td><td style=\"text-align: right;\">              -252</td><td style=\"text-align: right;\">            6789</td><td style=\"text-align: right;\">             5769</td><td style=\"text-align: right;\">    29</td><td style=\"text-align: right;\">                1</td><td style=\"text-align: right;\">           5</td></tr>\n",
       "<tr><td style=\"text-align: right;\">       2590</td><td style=\"text-align: right;\">      56</td><td style=\"text-align: right;\">      2</td><td style=\"text-align: right;\">                               212</td><td style=\"text-align: right;\">                              -6</td><td style=\"text-align: right;\">                              390</td><td style=\"text-align: right;\">            220</td><td style=\"text-align: right;\">             235</td><td style=\"text-align: right;\">            151</td><td style=\"text-align: right;\">                                6225</td><td style=\"text-align: right;\">              2596</td><td style=\"text-align: right;\">             2584</td><td style=\"text-align: right;\">                212.085</td><td style=\"text-align: right;\">             6437</td><td style=\"text-align: right;\">             -6013</td><td style=\"text-align: right;\">              602</td><td style=\"text-align: right;\">              -178</td><td style=\"text-align: right;\">            6615</td><td style=\"text-align: right;\">             5835</td><td style=\"text-align: right;\">    29</td><td style=\"text-align: right;\">                1</td><td style=\"text-align: right;\">           5</td></tr>\n",
       "<tr><td style=\"text-align: right;\">       2804</td><td style=\"text-align: right;\">     139</td><td style=\"text-align: right;\">      9</td><td style=\"text-align: right;\">                               268</td><td style=\"text-align: right;\">                              65</td><td style=\"text-align: right;\">                             3180</td><td style=\"text-align: right;\">            234</td><td style=\"text-align: right;\">             238</td><td style=\"text-align: right;\">            135</td><td style=\"text-align: right;\">                                6121</td><td style=\"text-align: right;\">              2739</td><td style=\"text-align: right;\">             2869</td><td style=\"text-align: right;\">                275.77 </td><td style=\"text-align: right;\">             6389</td><td style=\"text-align: right;\">             -5853</td><td style=\"text-align: right;\">             3448</td><td style=\"text-align: right;\">             -2912</td><td style=\"text-align: right;\">            9301</td><td style=\"text-align: right;\">             2941</td><td style=\"text-align: right;\">    12</td><td style=\"text-align: right;\">                1</td><td style=\"text-align: right;\">           2</td></tr>\n",
       "<tr><td style=\"text-align: right;\">       2785</td><td style=\"text-align: right;\">     155</td><td style=\"text-align: right;\">     18</td><td style=\"text-align: right;\">                               242</td><td style=\"text-align: right;\">                             118</td><td style=\"text-align: right;\">                             3090</td><td style=\"text-align: right;\">            238</td><td style=\"text-align: right;\">             238</td><td style=\"text-align: right;\">            122</td><td style=\"text-align: right;\">                                6211</td><td style=\"text-align: right;\">              2667</td><td style=\"text-align: right;\">             2903</td><td style=\"text-align: right;\">                269.236</td><td style=\"text-align: right;\">             6453</td><td style=\"text-align: right;\">             -5969</td><td style=\"text-align: right;\">             3332</td><td style=\"text-align: right;\">             -2848</td><td style=\"text-align: right;\">            9301</td><td style=\"text-align: right;\">             3121</td><td style=\"text-align: right;\">    30</td><td style=\"text-align: right;\">                1</td><td style=\"text-align: right;\">           2</td></tr>\n",
       "<tr><td style=\"text-align: right;\">       2595</td><td style=\"text-align: right;\">      45</td><td style=\"text-align: right;\">      2</td><td style=\"text-align: right;\">                               153</td><td style=\"text-align: right;\">                              -1</td><td style=\"text-align: right;\">                              391</td><td style=\"text-align: right;\">            220</td><td style=\"text-align: right;\">             234</td><td style=\"text-align: right;\">            150</td><td style=\"text-align: right;\">                                6172</td><td style=\"text-align: right;\">              2596</td><td style=\"text-align: right;\">             2594</td><td style=\"text-align: right;\">                153.003</td><td style=\"text-align: right;\">             6325</td><td style=\"text-align: right;\">             -6019</td><td style=\"text-align: right;\">              544</td><td style=\"text-align: right;\">              -238</td><td style=\"text-align: right;\">            6563</td><td style=\"text-align: right;\">             5781</td><td style=\"text-align: right;\">    29</td><td style=\"text-align: right;\">                1</td><td style=\"text-align: right;\">           5</td></tr>\n",
       "<tr><td style=\"text-align: right;\">       2579</td><td style=\"text-align: right;\">     132</td><td style=\"text-align: right;\">      6</td><td style=\"text-align: right;\">                               300</td><td style=\"text-align: right;\">                             -15</td><td style=\"text-align: right;\">                               67</td><td style=\"text-align: right;\">            230</td><td style=\"text-align: right;\">             237</td><td style=\"text-align: right;\">            140</td><td style=\"text-align: right;\">                                6031</td><td style=\"text-align: right;\">              2594</td><td style=\"text-align: right;\">             2564</td><td style=\"text-align: right;\">                300.375</td><td style=\"text-align: right;\">             6331</td><td style=\"text-align: right;\">             -5731</td><td style=\"text-align: right;\">              367</td><td style=\"text-align: right;\">               233</td><td style=\"text-align: right;\">            6098</td><td style=\"text-align: right;\">             5964</td><td style=\"text-align: right;\">    29</td><td style=\"text-align: right;\">                1</td><td style=\"text-align: right;\">           2</td></tr>\n",
       "<tr><td style=\"text-align: right;\">       2606</td><td style=\"text-align: right;\">      45</td><td style=\"text-align: right;\">      7</td><td style=\"text-align: right;\">                               270</td><td style=\"text-align: right;\">                               5</td><td style=\"text-align: right;\">                              633</td><td style=\"text-align: right;\">            222</td><td style=\"text-align: right;\">             225</td><td style=\"text-align: right;\">            138</td><td style=\"text-align: right;\">                                6256</td><td style=\"text-align: right;\">              2601</td><td style=\"text-align: right;\">             2611</td><td style=\"text-align: right;\">                270.046</td><td style=\"text-align: right;\">             6526</td><td style=\"text-align: right;\">             -5986</td><td style=\"text-align: right;\">              903</td><td style=\"text-align: right;\">              -363</td><td style=\"text-align: right;\">            6889</td><td style=\"text-align: right;\">             5623</td><td style=\"text-align: right;\">    29</td><td style=\"text-align: right;\">                1</td><td style=\"text-align: right;\">           5</td></tr>\n",
       "<tr><td style=\"text-align: right;\">       2605</td><td style=\"text-align: right;\">      49</td><td style=\"text-align: right;\">      4</td><td style=\"text-align: right;\">                               234</td><td style=\"text-align: right;\">                               7</td><td style=\"text-align: right;\">                              573</td><td style=\"text-align: right;\">            222</td><td style=\"text-align: right;\">             230</td><td style=\"text-align: right;\">            144</td><td style=\"text-align: right;\">                                6228</td><td style=\"text-align: right;\">              2598</td><td style=\"text-align: right;\">             2612</td><td style=\"text-align: right;\">                234.105</td><td style=\"text-align: right;\">             6462</td><td style=\"text-align: right;\">             -5994</td><td style=\"text-align: right;\">              807</td><td style=\"text-align: right;\">              -339</td><td style=\"text-align: right;\">            6801</td><td style=\"text-align: right;\">             5655</td><td style=\"text-align: right;\">    29</td><td style=\"text-align: right;\">                1</td><td style=\"text-align: right;\">           5</td></tr>\n",
       "<tr><td style=\"text-align: right;\">       2617</td><td style=\"text-align: right;\">      45</td><td style=\"text-align: right;\">      9</td><td style=\"text-align: right;\">                               240</td><td style=\"text-align: right;\">                              56</td><td style=\"text-align: right;\">                              666</td><td style=\"text-align: right;\">            223</td><td style=\"text-align: right;\">             221</td><td style=\"text-align: right;\">            133</td><td style=\"text-align: right;\">                                6244</td><td style=\"text-align: right;\">              2561</td><td style=\"text-align: right;\">             2673</td><td style=\"text-align: right;\">                246.447</td><td style=\"text-align: right;\">             6484</td><td style=\"text-align: right;\">             -6004</td><td style=\"text-align: right;\">              906</td><td style=\"text-align: right;\">              -426</td><td style=\"text-align: right;\">            6910</td><td style=\"text-align: right;\">             5578</td><td style=\"text-align: right;\">    29</td><td style=\"text-align: right;\">                1</td><td style=\"text-align: right;\">           5</td></tr>\n",
       "<tr><td style=\"text-align: right;\">       2612</td><td style=\"text-align: right;\">      59</td><td style=\"text-align: right;\">     10</td><td style=\"text-align: right;\">                               247</td><td style=\"text-align: right;\">                              11</td><td style=\"text-align: right;\">                              636</td><td style=\"text-align: right;\">            228</td><td style=\"text-align: right;\">             219</td><td style=\"text-align: right;\">            124</td><td style=\"text-align: right;\">                                6230</td><td style=\"text-align: right;\">              2601</td><td style=\"text-align: right;\">             2623</td><td style=\"text-align: right;\">                247.245</td><td style=\"text-align: right;\">             6477</td><td style=\"text-align: right;\">             -5983</td><td style=\"text-align: right;\">              883</td><td style=\"text-align: right;\">              -389</td><td style=\"text-align: right;\">            6866</td><td style=\"text-align: right;\">             5594</td><td style=\"text-align: right;\">    29</td><td style=\"text-align: right;\">                1</td><td style=\"text-align: right;\">           5</td></tr>\n",
       "</tbody>\n",
       "</table>"
      ]
     },
     "metadata": {},
     "output_type": "display_data"
    },
    {
     "data": {
      "text/plain": []
     },
     "execution_count": 25,
     "metadata": {},
     "output_type": "execute_result"
    }
   ],
   "source": [
    "hf.head()"
   ]
  },
  {
   "cell_type": "code",
   "execution_count": 26,
   "metadata": {},
   "outputs": [
    {
     "data": {
      "text/plain": [
       "['Elevation',\n",
       " 'Aspect',\n",
       " 'Slope',\n",
       " 'Horizontal_Distance_To_Hydrology',\n",
       " 'Vertical_Distance_To_Hydrology',\n",
       " 'Horizontal_Distance_To_Roadways',\n",
       " 'Hillshade_9am',\n",
       " 'Hillshade_Noon',\n",
       " 'Hillshade_3pm',\n",
       " 'Horizontal_Distance_To_Fire_Points',\n",
       " 'Ele_minus_VDtHyd',\n",
       " 'Ele_plus_VDtHyd',\n",
       " 'Distanse_to_Hydrolody',\n",
       " 'Hydro_plus_Fire',\n",
       " 'Hydro_minus_Fire',\n",
       " 'Hydro_plus_Road',\n",
       " 'Hydro_minus_Road',\n",
       " 'Fire_plus_Road',\n",
       " 'Fire_minus_Road',\n",
       " 'Soil',\n",
       " 'Wilderness_Area',\n",
       " 'Cover_Type']"
      ]
     },
     "execution_count": 26,
     "metadata": {},
     "output_type": "execute_result"
    }
   ],
   "source": [
    "x = hf.col_names\n",
    "x"
   ]
  },
  {
   "cell_type": "code",
   "execution_count": 27,
   "metadata": {},
   "outputs": [
    {
     "data": {
      "text/plain": [
       "[True]"
      ]
     },
     "execution_count": 27,
     "metadata": {},
     "output_type": "execute_result"
    }
   ],
   "source": [
    "y='Cover_Type'\n",
    "x.remove(y)\n",
    "hf['Cover_Type']=hf['Cover_Type'].asfactor()\n",
    "hf['Cover_Type'].isfactor()"
   ]
  },
  {
   "cell_type": "markdown",
   "metadata": {},
   "source": [
    "## Setting the target variable as categorical for multi classification\n",
    "\n",
    "# Implementing the H2OAutoML for train data set"
   ]
  },
  {
   "cell_type": "code",
   "execution_count": 28,
   "metadata": {},
   "outputs": [
    {
     "name": "stdout",
     "output_type": "stream",
     "text": [
      "AutoML progress: |████████████████████████████████████████████████████████| 100%\n"
     ]
    }
   ],
   "source": [
    "aml = H2OAutoML(max_runtime_secs=300)\n",
    "aml.train(x=x,y=y,training_frame=hf)"
   ]
  },
  {
   "cell_type": "code",
   "execution_count": 29,
   "metadata": {},
   "outputs": [
    {
     "data": {
      "text/html": [
       "<table>\n",
       "<thead>\n",
       "<tr><th>model_id                                           </th><th style=\"text-align: right;\">  mean_per_class_error</th><th style=\"text-align: right;\">  logloss</th><th style=\"text-align: right;\">    rmse</th><th style=\"text-align: right;\">      mse</th></tr>\n",
       "</thead>\n",
       "<tbody>\n",
       "<tr><td>StackedEnsemble_AllModels_AutoML_20190301_210453   </td><td style=\"text-align: right;\">              0.110317</td><td style=\"text-align: right;\"> 0.300491</td><td style=\"text-align: right;\">0.296899</td><td style=\"text-align: right;\">0.0881489</td></tr>\n",
       "<tr><td>StackedEnsemble_BestOfFamily_AutoML_20190301_210453</td><td style=\"text-align: right;\">              0.110317</td><td style=\"text-align: right;\"> 0.300491</td><td style=\"text-align: right;\">0.296899</td><td style=\"text-align: right;\">0.0881489</td></tr>\n",
       "<tr><td>DRF_1_AutoML_20190301_210453                       </td><td style=\"text-align: right;\">              0.114286</td><td style=\"text-align: right;\"> 0.404868</td><td style=\"text-align: right;\">0.327827</td><td style=\"text-align: right;\">0.107471 </td></tr>\n",
       "<tr><td>XRT_1_AutoML_20190301_210453                       </td><td style=\"text-align: right;\">              0.121892</td><td style=\"text-align: right;\"> 0.497979</td><td style=\"text-align: right;\">0.33438 </td><td style=\"text-align: right;\">0.11181  </td></tr>\n",
       "<tr><td>GLM_grid_1_AutoML_20190301_210453_model_1          </td><td style=\"text-align: right;\">              0.323214</td><td style=\"text-align: right;\"> 0.78161 </td><td style=\"text-align: right;\">0.521176</td><td style=\"text-align: right;\">0.271624 </td></tr>\n",
       "</tbody>\n",
       "</table>"
      ]
     },
     "metadata": {},
     "output_type": "display_data"
    },
    {
     "data": {
      "text/plain": []
     },
     "execution_count": 29,
     "metadata": {},
     "output_type": "execute_result"
    }
   ],
   "source": [
    "aml.leaderboard"
   ]
  },
  {
   "cell_type": "code",
   "execution_count": 40,
   "metadata": {},
   "outputs": [],
   "source": [
    "best_model = h2o.get_model(aml.leaderboard[2,'model_id'])"
   ]
  },
  {
   "cell_type": "code",
   "execution_count": 41,
   "metadata": {},
   "outputs": [
    {
     "data": {
      "text/plain": [
       "'drf'"
      ]
     },
     "execution_count": 41,
     "metadata": {},
     "output_type": "execute_result"
    }
   ],
   "source": [
    "best_model.algo"
   ]
  },
  {
   "cell_type": "code",
   "execution_count": 42,
   "metadata": {},
   "outputs": [],
   "source": [
    "import matplotlib.pyplot as plt\n",
    "%matplotlib inline\n",
    "\n",
    "import warnings\n",
    "import matplotlib.cbook\n",
    "warnings.filterwarnings(\"ignore\", category = matplotlib.cbook.mplDeprecation)"
   ]
  },
  {
   "cell_type": "code",
   "execution_count": 43,
   "metadata": {},
   "outputs": [
    {
     "data": {
      "image/png": "[encoded data removed]",
      "text/plain": [
       "<Figure size 1008x720 with 1 Axes>"
      ]
     },
     "metadata": {
      "needs_background": "light"
     },
     "output_type": "display_data"
    }
   ],
   "source": [
    "best_model.varimp_plot()"
   ]
  },
  {
   "cell_type": "code",
   "execution_count": 44,
   "metadata": {},
   "outputs": [
    {
     "name": "stdout",
     "output_type": "stream",
     "text": [
      "Parse progress: |█████████████████████████████████████████████████████████| 100%\n"
     ]
    }
   ],
   "source": [
    "hf_test = h2o.H2OFrame(df_test)"
   ]
  },
  {
   "cell_type": "markdown",
   "metadata": {},
   "source": [
    "## Converting test frame to H2OFrame and predicting using the leader from the AML"
   ]
  },
  {
   "cell_type": "code",
   "execution_count": 45,
   "metadata": {},
   "outputs": [
    {
     "name": "stdout",
     "output_type": "stream",
     "text": [
      "stackedensemble prediction progress: |████████████████████████████████████| 100%\n"
     ]
    }
   ],
   "source": [
    "\n",
    "Yr = aml.leader.predict(hf_test)"
   ]
  },
  {
   "cell_type": "markdown",
   "metadata": {},
   "source": [
    "# Predictions"
   ]
  },
  {
   "cell_type": "code",
   "execution_count": 46,
   "metadata": {},
   "outputs": [
    {
     "data": {
      "text/html": [
       "<table>\n",
       "<thead>\n",
       "<tr><th style=\"text-align: right;\">  predict</th><th style=\"text-align: right;\">      p1</th><th style=\"text-align: right;\">       p2</th><th style=\"text-align: right;\">         p3</th><th style=\"text-align: right;\">         p4</th><th style=\"text-align: right;\">        p5</th><th style=\"text-align: right;\">        p6</th><th style=\"text-align: right;\">         p7</th></tr>\n",
       "</thead>\n",
       "<tbody>\n",
       "<tr><td style=\"text-align: right;\">        1</td><td style=\"text-align: right;\">0.695721</td><td style=\"text-align: right;\">0.253036 </td><td style=\"text-align: right;\">0.00382915 </td><td style=\"text-align: right;\">0.00124309 </td><td style=\"text-align: right;\">0.0400079 </td><td style=\"text-align: right;\">0.00444411</td><td style=\"text-align: right;\">0.00171877 </td></tr>\n",
       "<tr><td style=\"text-align: right;\">        1</td><td style=\"text-align: right;\">0.821692</td><td style=\"text-align: right;\">0.155194 </td><td style=\"text-align: right;\">0.00224054 </td><td style=\"text-align: right;\">0.000713552</td><td style=\"text-align: right;\">0.0165756 </td><td style=\"text-align: right;\">0.00249858</td><td style=\"text-align: right;\">0.00108628 </td></tr>\n",
       "<tr><td style=\"text-align: right;\">        1</td><td style=\"text-align: right;\">0.693231</td><td style=\"text-align: right;\">0.288796 </td><td style=\"text-align: right;\">0.00231885 </td><td style=\"text-align: right;\">0.000758601</td><td style=\"text-align: right;\">0.0103742 </td><td style=\"text-align: right;\">0.00324443</td><td style=\"text-align: right;\">0.00127625 </td></tr>\n",
       "<tr><td style=\"text-align: right;\">        1</td><td style=\"text-align: right;\">0.769706</td><td style=\"text-align: right;\">0.213475 </td><td style=\"text-align: right;\">0.00214183 </td><td style=\"text-align: right;\">0.000700145</td><td style=\"text-align: right;\">0.00986035</td><td style=\"text-align: right;\">0.00294437</td><td style=\"text-align: right;\">0.00117202 </td></tr>\n",
       "<tr><td style=\"text-align: right;\">        1</td><td style=\"text-align: right;\">0.711223</td><td style=\"text-align: right;\">0.256895 </td><td style=\"text-align: right;\">0.00297906 </td><td style=\"text-align: right;\">0.00097334 </td><td style=\"text-align: right;\">0.0223517 </td><td style=\"text-align: right;\">0.00397256</td><td style=\"text-align: right;\">0.00160557 </td></tr>\n",
       "<tr><td style=\"text-align: right;\">        1</td><td style=\"text-align: right;\">0.833515</td><td style=\"text-align: right;\">0.15251  </td><td style=\"text-align: right;\">0.00182469 </td><td style=\"text-align: right;\">0.000596828</td><td style=\"text-align: right;\">0.00814154</td><td style=\"text-align: right;\">0.0024601 </td><td style=\"text-align: right;\">0.000952202</td></tr>\n",
       "<tr><td style=\"text-align: right;\">        1</td><td style=\"text-align: right;\">0.903061</td><td style=\"text-align: right;\">0.0898522</td><td style=\"text-align: right;\">0.00111843 </td><td style=\"text-align: right;\">0.000366859</td><td style=\"text-align: right;\">0.00358311</td><td style=\"text-align: right;\">0.00139245</td><td style=\"text-align: right;\">0.000625884</td></tr>\n",
       "<tr><td style=\"text-align: right;\">        1</td><td style=\"text-align: right;\">0.927112</td><td style=\"text-align: right;\">0.0676975</td><td style=\"text-align: right;\">0.000914315</td><td style=\"text-align: right;\">0.000299917</td><td style=\"text-align: right;\">0.00229902</td><td style=\"text-align: right;\">0.00114419</td><td style=\"text-align: right;\">0.000532795</td></tr>\n",
       "<tr><td style=\"text-align: right;\">        1</td><td style=\"text-align: right;\">0.908721</td><td style=\"text-align: right;\">0.0849127</td><td style=\"text-align: right;\">0.00110848 </td><td style=\"text-align: right;\">0.000361942</td><td style=\"text-align: right;\">0.00261041</td><td style=\"text-align: right;\">0.00165298</td><td style=\"text-align: right;\">0.000632579</td></tr>\n",
       "<tr><td style=\"text-align: right;\">        1</td><td style=\"text-align: right;\">0.902378</td><td style=\"text-align: right;\">0.0920639</td><td style=\"text-align: right;\">0.00102714 </td><td style=\"text-align: right;\">0.000335974</td><td style=\"text-align: right;\">0.00220075</td><td style=\"text-align: right;\">0.00142088</td><td style=\"text-align: right;\">0.000573339</td></tr>\n",
       "</tbody>\n",
       "</table>"
      ]
     },
     "metadata": {},
     "output_type": "display_data"
    },
    {
     "data": {
      "text/plain": []
     },
     "execution_count": 46,
     "metadata": {},
     "output_type": "execute_result"
    }
   ],
   "source": [
    "Yr"
   ]
  },
  {
   "cell_type": "markdown",
   "metadata": {},
   "source": [
    "## Verifying Predicted and test counts for submission"
   ]
  },
  {
   "cell_type": "code",
   "execution_count": 47,
   "metadata": {},
   "outputs": [
    {
     "data": {
      "text/plain": [
       "(565892, 8)"
      ]
     },
     "execution_count": 47,
     "metadata": {},
     "output_type": "execute_result"
    }
   ],
   "source": [
    "Yr.shape"
   ]
  },
  {
   "cell_type": "code",
   "execution_count": 48,
   "metadata": {},
   "outputs": [
    {
     "data": {
      "text/plain": [
       "(565892, 66)"
      ]
     },
     "execution_count": 48,
     "metadata": {},
     "output_type": "execute_result"
    }
   ],
   "source": [
    "hf_test.shape"
   ]
  },
  {
   "cell_type": "code",
   "execution_count": 49,
   "metadata": {},
   "outputs": [],
   "source": [
    "tmp = hf_test.as_data_frame()\n",
    "tmpy = Yr.as_data_frame()"
   ]
  },
  {
   "cell_type": "code",
   "execution_count": 50,
   "metadata": {},
   "outputs": [],
   "source": [
    "submission = pd.DataFrame({'Id':tmp['Id'], 'Cover_Type' : tmpy['predict']})"
   ]
  },
  {
   "cell_type": "code",
   "execution_count": 51,
   "metadata": {},
   "outputs": [],
   "source": [
    "submission.to_csv(\"submission1.csv\", index=False)"
   ]
  },
  {
   "cell_type": "markdown",
   "metadata": {},
   "source": [
    "# Summary"
   ]
  },
  {
   "cell_type": "markdown",
   "metadata": {},
   "source": [
    "The best voted kernel have manually verified the best model by comparing different models and they have done basic data analysis with minimal feature engineering.\n",
    "However, we have calculated the euclidean distance between water and roadways features which wasn't implemented in the best kernel. This feature also ended up as the most important feature used by the H2O.\n",
    "Also, we used H2O AutoML to automatically cross validate and verify all the models and also the stacked ensemble models."
   ]
  },
  {
   "cell_type": "markdown",
   "metadata": {},
   "source": [
    "# Contribution\n",
    "Cleaning and imputation of data using Random Forest Regressor. Exploratory data analysis of different columns. Feature engineering - Creation of new columns by distance calculation on cartographical data. Implementation of H2O automl to predict type of forest cover. "
   ]
  },
  {
   "cell_type": "markdown",
   "metadata": {},
   "source": [
    "# Citations\n",
    "- https://stackoverflow.com/questions/22875632/python-calculate-the-distance-with-different-data-types-in-python\n",
    "- https://pandas.pydata.org/pandas-docs/version/0.22/\n",
    "- http://docs.h2o.ai/\n",
    "- https://www.esri.com/esri-news/arcuser/winter-2013/understanding-statistical-data-for-mapping-purposes\n",
    "- https://www.tandfonline.com/doi/abs/10.1080/00087041.2016.1168141?src=recsys&journalCode=ycaj20\n",
    "- https://en.wikipedia.org/wiki/Euclidean_distance\n",
    "- https://github.com/nikbearbrown/CSYE_7245/blob/master/H2O/H2O_automl_lending_club.ipynb"
   ]
  },
  {
   "cell_type": "markdown",
   "metadata": {},
   "source": [
    "# License"
   ]
  },
  {
   "cell_type": "markdown",
   "metadata": {},
   "source": [
    "Must have a license such as the MIT License https://opensource.org/licenses/MIT"
   ]
  },
  {
   "cell_type": "markdown",
   "metadata": {},
   "source": [
    "# Conclusion"
   ]
  },
  {
   "cell_type": "markdown",
   "metadata": {},
   "source": [
    "**Predicted the forest cover type (the predominant kind of tree cover) from cartographical variables. There were no null values in dataset. Only column** ***Hillshade_3pm*** **had around 88 values marked as 0, which was taken care by imputing the 0 values by best fits using** ***Random Forest Regressor.*** **Summed up the raw value of different soil and wilderness area and performed feature engineering to generate new columns to measure the distance between the nearest roadway and water features for the particular cell using Euclidean distance and this feature turned out to be most important feature.\n",
    "After training the data using Auto ML,** ***StackedEnsemble_AllModels_AutoML_20190301_210453*** **turned out to be the best model with a mean_per_class_error of 0.110317, logloss 0.300491, rmse value of 0.296899 and mse value of 0.0881489. Ele_minus_VDtHyd was the most important variable followed by elevation and soil.**"
   ]
  },
  {
   "cell_type": "markdown",
   "metadata": {},
   "source": [
    "**The accuracy of the best model is 0.81 according to the evaluation criteria of Kaggle competition**"
   ]
  },
  {
   "cell_type": "code",
   "execution_count": null,
   "metadata": {},
   "outputs": [],
   "source": []
  }
 ],
 "metadata": {
  "kernelspec": {
   "display_name": "Python 3",
   "language": "python",
   "name": "python3"
  },
  "language_info": {
   "codemirror_mode": {
    "name": "ipython",
    "version": 3
   },
   "file_extension": ".py",
   "mimetype": "text/x-python",
   "name": "python",
   "nbconvert_exporter": "python",
   "pygments_lexer": "ipython3",
   "version": "3.6.5"
  }
 },
 "nbformat": 4,
 "nbformat_minor": 2
}
